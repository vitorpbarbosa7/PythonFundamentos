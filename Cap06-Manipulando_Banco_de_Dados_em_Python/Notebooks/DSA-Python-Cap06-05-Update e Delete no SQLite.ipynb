{
 "cells": [
  {
   "cell_type": "markdown",
   "metadata": {},
   "source": [
    "# <font color='blue'>Data Science Academy - Python Fundamentos - Capítulo 6</font>\n",
    "\n",
    "## Download: http://github.com/dsacademybr"
   ]
  },
  {
   "cell_type": "markdown",
   "metadata": {},
   "source": [
    "### Update e Delete"
   ]
  },
  {
   "cell_type": "code",
   "execution_count": 40,
   "metadata": {},
   "outputs": [],
   "source": [
    "import sqlite3\n",
    "import random\n",
    "import time\n",
    "import datetime\n",
    " \n",
    "# Criando uma conexão\n",
    "conn = sqlite3.connect('dsa.db')   \n",
    "\n",
    "# Criando um cursor\n",
    "c = conn.cursor()\n",
    " \n",
    "# Função para criar uma tabela\n",
    "def create_table():\n",
    "    c.execute('CREATE TABLE IF NOT EXISTS produtos(id INTEGER PRIMARY KEY AUTOINCREMENT NOT NULL, date TEXT, '\\\n",
    "              'prod_name TEXT, valor REAL)')\n",
    "      \n",
    "# Função para inserir uma linha\n",
    "def data_insert():\n",
    "    c.execute(\"INSERT INTO produtos VALUES(002, '02-05-2016', 'teclado', 130 )\")\n",
    "    conn.commit()\n",
    "    c.close()\n",
    "    conn.close()\n",
    "    \n",
    "# Usando variáveis para inserir dados    \n",
    "def data_insert_var():\n",
    "    new_date = datetime.datetime.now()\n",
    "    new_prod_name = 'monitor'\n",
    "    new_valor = random.randrange(50,80)\n",
    "    c.execute(\"INSERT INTO produtos (date, prod_name, valor) VALUES (?, ?, ?, ?)\", \n",
    "              (new_date, new_prod_name, new_valor))\n",
    "    conn.commit()\n",
    "    \n",
    "# Leitura de dados\n",
    "def leitura_todos_dados():\n",
    "    c.execute(\"SELECT * FROM PRODUTOS\")\n",
    "    for linha in c.fetchall():\n",
    "        print(linha)\n",
    "        \n",
    "# Leitura de registros específicos\n",
    "def leitura_registros():\n",
    "    c.execute(\"SELECT * FROM PRODUTOS WHERE valor > 70.0\")\n",
    "    for linha in c.fetchall():\n",
    "        print(linha)      \n",
    "        \n",
    "# Leitura de colunas específicos\n",
    "def leitura_colunas():\n",
    "    c.execute(\"SELECT * FROM PRODUTOS\")\n",
    "    for linha in c.fetchall():\n",
    "        print(linha[3])  "
   ]
  },
  {
   "cell_type": "code",
   "execution_count": 41,
   "metadata": {},
   "outputs": [],
   "source": [
    "def update_dados():\n",
    "    c.execute(\n",
    "    'UPDATE produtos '\\\n",
    "    'SET valor = 01 '\\\n",
    "    'WHERE valor = 94')"
   ]
  },
  {
   "cell_type": "code",
   "execution_count": 45,
   "metadata": {},
   "outputs": [],
   "source": [
    "def delete_dados():\n",
    "    c.execute(\n",
    "    'DELETE FROM produtos '\\\n",
    "    'WHERE prod_name = \"Teclado\"')"
   ]
  },
  {
   "cell_type": "code",
   "execution_count": 46,
   "metadata": {},
   "outputs": [],
   "source": [
    "update_dados()"
   ]
  },
  {
   "cell_type": "code",
   "execution_count": 47,
   "metadata": {},
   "outputs": [
    {
     "name": "stdout",
     "output_type": "stream",
     "text": [
      "(10, '2018-05-02 14:32:11', 'Teclado', 90.0)\n",
      "(11, '2019-11-26 21:12:37.035320', 'Monitor', 65.0)\n",
      "(12, '2019-11-26 21:12:38.294443', 'Monitor', 92.0)\n",
      "(13, '2019-11-26 21:12:39.489418', 'Monitor', 63.0)\n",
      "(14, '2019-11-26 21:12:40.649730', 'Monitor', 57.0)\n",
      "(15, '2019-11-26 21:12:41.756625', 'Monitor', 1.0)\n",
      "(16, '2019-11-26 21:12:42.874448', 'Monitor', 1.0)\n",
      "(17, '2019-11-26 21:12:43.984400', 'Monitor', 95.0)\n",
      "(18, '2019-11-26 21:12:45.066458', 'Monitor', 61.0)\n",
      "(19, '2019-11-26 21:12:46.151789', 'Monitor', 54.0)\n",
      "(20, '2019-11-26 21:12:47.258612', 'Monitor', 78.0)\n",
      "(21, '2019-11-26 21:14:48.183545', 'Monitor', 576935.0)\n",
      "(22, '2019-11-26 21:14:49.362515', 'Monitor', 504022.0)\n",
      "(23, '2019-11-26 21:14:50.478830', 'Monitor', 9545.0)\n",
      "(24, '2019-11-26 21:14:51.596860', 'Monitor', 629155.0)\n",
      "(25, '2019-11-26 21:14:52.715390', 'Monitor', 156038.0)\n",
      "(26, '2019-11-26 21:14:53.788313', 'Monitor', 811567.0)\n",
      "(27, '2019-11-26 21:14:54.918126', 'Monitor', 522111.0)\n",
      "(28, '2019-11-26 21:14:56.035667', 'Monitor', 918205.0)\n",
      "(29, '2019-11-26 21:14:57.132211', 'Monitor', 857067.0)\n",
      "(30, '2019-11-26 21:14:58.220161', 'Monitor', 650154.0)\n",
      "(31, '2019-11-26 21:16:07.005439', 'Monitor', 327447.0)\n",
      "(32, '2019-11-26 21:16:08.215406', 'Monitor', 299079.0)\n",
      "(33, '2019-11-26 21:16:09.286202', 'Monitor', 312298.0)\n",
      "(34, '2019-11-26 21:16:10.436798', 'Monitor', 12859.0)\n",
      "(35, '2019-11-26 21:16:11.544002', 'Monitor', 228125.0)\n",
      "(36, '2019-11-26 21:16:12.673131', 'Monitor', 777988.0)\n",
      "(37, '2019-11-26 21:16:13.780377', 'Monitor', 639353.0)\n",
      "(38, '2019-11-26 21:16:14.855114', 'Monitor', 633259.0)\n",
      "(39, '2019-11-26 21:16:15.961834', 'Monitor', 675168.0)\n",
      "(40, '2019-11-26 21:16:17.069118', 'Monitor', 9624.0)\n",
      "(41, '2019-11-26 21:16:19.829696', 'Monitor', 517194.0)\n",
      "(42, '2019-11-26 21:16:20.980116', 'Monitor', 318628.0)\n",
      "(43, '2019-11-26 21:16:22.105920', 'Monitor', 515919.0)\n",
      "(44, '2019-11-26 21:16:23.221440', 'Monitor', 494424.0)\n",
      "(45, '2019-11-26 21:16:24.329880', 'Monitor', 859531.0)\n",
      "(46, '2019-11-26 21:16:25.458931', 'Monitor', 186878.0)\n",
      "(47, '2019-11-26 21:16:26.566550', 'Monitor', 944345.0)\n",
      "(48, '2019-11-26 21:16:27.673577', 'Monitor', 358483.0)\n",
      "(49, '2019-11-26 21:16:28.780421', 'Monitor', 72132.0)\n",
      "(50, '2019-11-26 21:16:29.887222', 'Monitor', 673104.0)\n",
      "(51, '2019-11-26 21:16:33.086823', 'Monitor', 865326.0)\n",
      "(52, '2019-11-26 21:16:34.285526', 'Monitor', 551377.0)\n",
      "(53, '2019-11-26 21:16:35.410967', 'Monitor', 89009.0)\n",
      "(54, '2019-11-26 21:16:36.497471', 'Monitor', 717748.0)\n",
      "(55, '2019-11-26 21:16:37.603470', 'Monitor', 137099.0)\n",
      "(56, '2019-11-26 21:16:38.710970', 'Monitor', 326477.0)\n",
      "(57, '2019-11-26 21:16:39.831506', 'Monitor', 247178.0)\n",
      "(58, '2019-11-26 21:16:40.971677', 'Monitor', 571204.0)\n",
      "(59, '2019-11-26 21:16:42.054025', 'Monitor', 963087.0)\n",
      "(60, '2019-11-26 21:16:43.127563', 'Monitor', 130294.0)\n",
      "(61, '2019-11-26 21:16:48.366021', 'Monitor', 347575.0)\n",
      "(62, '2019-11-26 21:16:49.506988', 'Monitor', 823187.0)\n",
      "(63, '2019-11-26 21:16:50.677262', 'Monitor', 344761.0)\n",
      "(64, '2019-11-26 21:16:51.783837', 'Monitor', 821599.0)\n",
      "(65, '2019-11-26 21:16:52.858477', 'Monitor', 213661.0)\n",
      "(66, '2019-11-26 21:16:53.964792', 'Monitor', 255128.0)\n",
      "(67, '2019-11-26 21:16:55.086233', 'Monitor', 743177.0)\n",
      "(68, '2019-11-26 21:16:56.168120', 'Monitor', 387886.0)\n",
      "(69, '2019-11-26 21:16:57.330240', 'Monitor', 657286.0)\n",
      "(70, '2019-11-26 21:16:58.437388', 'Monitor', 587451.0)\n"
     ]
    }
   ],
   "source": [
    "leitura_todos_dados()"
   ]
  },
  {
   "cell_type": "code",
   "execution_count": 48,
   "metadata": {},
   "outputs": [],
   "source": [
    "delete_dados()"
   ]
  },
  {
   "cell_type": "code",
   "execution_count": 49,
   "metadata": {},
   "outputs": [
    {
     "name": "stdout",
     "output_type": "stream",
     "text": [
      "(11, '2019-11-26 21:12:37.035320', 'Monitor', 65.0)\n",
      "(12, '2019-11-26 21:12:38.294443', 'Monitor', 92.0)\n",
      "(13, '2019-11-26 21:12:39.489418', 'Monitor', 63.0)\n",
      "(14, '2019-11-26 21:12:40.649730', 'Monitor', 57.0)\n",
      "(15, '2019-11-26 21:12:41.756625', 'Monitor', 1.0)\n",
      "(16, '2019-11-26 21:12:42.874448', 'Monitor', 1.0)\n",
      "(17, '2019-11-26 21:12:43.984400', 'Monitor', 95.0)\n",
      "(18, '2019-11-26 21:12:45.066458', 'Monitor', 61.0)\n",
      "(19, '2019-11-26 21:12:46.151789', 'Monitor', 54.0)\n",
      "(20, '2019-11-26 21:12:47.258612', 'Monitor', 78.0)\n",
      "(21, '2019-11-26 21:14:48.183545', 'Monitor', 576935.0)\n",
      "(22, '2019-11-26 21:14:49.362515', 'Monitor', 504022.0)\n",
      "(23, '2019-11-26 21:14:50.478830', 'Monitor', 9545.0)\n",
      "(24, '2019-11-26 21:14:51.596860', 'Monitor', 629155.0)\n",
      "(25, '2019-11-26 21:14:52.715390', 'Monitor', 156038.0)\n",
      "(26, '2019-11-26 21:14:53.788313', 'Monitor', 811567.0)\n",
      "(27, '2019-11-26 21:14:54.918126', 'Monitor', 522111.0)\n",
      "(28, '2019-11-26 21:14:56.035667', 'Monitor', 918205.0)\n",
      "(29, '2019-11-26 21:14:57.132211', 'Monitor', 857067.0)\n",
      "(30, '2019-11-26 21:14:58.220161', 'Monitor', 650154.0)\n",
      "(31, '2019-11-26 21:16:07.005439', 'Monitor', 327447.0)\n",
      "(32, '2019-11-26 21:16:08.215406', 'Monitor', 299079.0)\n",
      "(33, '2019-11-26 21:16:09.286202', 'Monitor', 312298.0)\n",
      "(34, '2019-11-26 21:16:10.436798', 'Monitor', 12859.0)\n",
      "(35, '2019-11-26 21:16:11.544002', 'Monitor', 228125.0)\n",
      "(36, '2019-11-26 21:16:12.673131', 'Monitor', 777988.0)\n",
      "(37, '2019-11-26 21:16:13.780377', 'Monitor', 639353.0)\n",
      "(38, '2019-11-26 21:16:14.855114', 'Monitor', 633259.0)\n",
      "(39, '2019-11-26 21:16:15.961834', 'Monitor', 675168.0)\n",
      "(40, '2019-11-26 21:16:17.069118', 'Monitor', 9624.0)\n",
      "(41, '2019-11-26 21:16:19.829696', 'Monitor', 517194.0)\n",
      "(42, '2019-11-26 21:16:20.980116', 'Monitor', 318628.0)\n",
      "(43, '2019-11-26 21:16:22.105920', 'Monitor', 515919.0)\n",
      "(44, '2019-11-26 21:16:23.221440', 'Monitor', 494424.0)\n",
      "(45, '2019-11-26 21:16:24.329880', 'Monitor', 859531.0)\n",
      "(46, '2019-11-26 21:16:25.458931', 'Monitor', 186878.0)\n",
      "(47, '2019-11-26 21:16:26.566550', 'Monitor', 944345.0)\n",
      "(48, '2019-11-26 21:16:27.673577', 'Monitor', 358483.0)\n",
      "(49, '2019-11-26 21:16:28.780421', 'Monitor', 72132.0)\n",
      "(50, '2019-11-26 21:16:29.887222', 'Monitor', 673104.0)\n",
      "(51, '2019-11-26 21:16:33.086823', 'Monitor', 865326.0)\n",
      "(52, '2019-11-26 21:16:34.285526', 'Monitor', 551377.0)\n",
      "(53, '2019-11-26 21:16:35.410967', 'Monitor', 89009.0)\n",
      "(54, '2019-11-26 21:16:36.497471', 'Monitor', 717748.0)\n",
      "(55, '2019-11-26 21:16:37.603470', 'Monitor', 137099.0)\n",
      "(56, '2019-11-26 21:16:38.710970', 'Monitor', 326477.0)\n",
      "(57, '2019-11-26 21:16:39.831506', 'Monitor', 247178.0)\n",
      "(58, '2019-11-26 21:16:40.971677', 'Monitor', 571204.0)\n",
      "(59, '2019-11-26 21:16:42.054025', 'Monitor', 963087.0)\n",
      "(60, '2019-11-26 21:16:43.127563', 'Monitor', 130294.0)\n",
      "(61, '2019-11-26 21:16:48.366021', 'Monitor', 347575.0)\n",
      "(62, '2019-11-26 21:16:49.506988', 'Monitor', 823187.0)\n",
      "(63, '2019-11-26 21:16:50.677262', 'Monitor', 344761.0)\n",
      "(64, '2019-11-26 21:16:51.783837', 'Monitor', 821599.0)\n",
      "(65, '2019-11-26 21:16:52.858477', 'Monitor', 213661.0)\n",
      "(66, '2019-11-26 21:16:53.964792', 'Monitor', 255128.0)\n",
      "(67, '2019-11-26 21:16:55.086233', 'Monitor', 743177.0)\n",
      "(68, '2019-11-26 21:16:56.168120', 'Monitor', 387886.0)\n",
      "(69, '2019-11-26 21:16:57.330240', 'Monitor', 657286.0)\n",
      "(70, '2019-11-26 21:16:58.437388', 'Monitor', 587451.0)\n"
     ]
    }
   ],
   "source": [
    "leitura_todos_dados()"
   ]
  },
  {
   "cell_type": "markdown",
   "metadata": {},
   "source": [
    "# Fim"
   ]
  },
  {
   "cell_type": "markdown",
   "metadata": {},
   "source": [
    "### Obrigado - Data Science Academy - <a href=\"http://facebook.com/dsacademybr\">facebook.com/dsacademybr</a>"
   ]
  }
 ],
 "metadata": {
  "kernelspec": {
   "display_name": "Python 3",
   "language": "python",
   "name": "python3"
  },
  "language_info": {
   "codemirror_mode": {
    "name": "ipython",
    "version": 3
   },
   "file_extension": ".py",
   "mimetype": "text/x-python",
   "name": "python",
   "nbconvert_exporter": "python",
   "pygments_lexer": "ipython3",
   "version": "3.7.0"
  }
 },
 "nbformat": 4,
 "nbformat_minor": 1
}
