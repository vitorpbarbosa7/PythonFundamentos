{
 "cells": [
  {
   "cell_type": "code",
   "execution_count": 1,
   "id": "217df3d3",
   "metadata": {},
   "outputs": [],
   "source": [
    "lista = []"
   ]
  },
  {
   "cell_type": "code",
   "execution_count": 3,
   "id": "02921feb",
   "metadata": {},
   "outputs": [
    {
     "data": {
      "text/plain": [
       "['__add__',\n",
       " '__class__',\n",
       " '__contains__',\n",
       " '__delattr__',\n",
       " '__delitem__',\n",
       " '__dir__',\n",
       " '__doc__',\n",
       " '__eq__',\n",
       " '__format__',\n",
       " '__ge__',\n",
       " '__getattribute__',\n",
       " '__getitem__',\n",
       " '__gt__',\n",
       " '__hash__',\n",
       " '__iadd__',\n",
       " '__imul__',\n",
       " '__init__',\n",
       " '__init_subclass__',\n",
       " '__iter__',\n",
       " '__le__',\n",
       " '__len__',\n",
       " '__lt__',\n",
       " '__mul__',\n",
       " '__ne__',\n",
       " '__new__',\n",
       " '__reduce__',\n",
       " '__reduce_ex__',\n",
       " '__repr__',\n",
       " '__reversed__',\n",
       " '__rmul__',\n",
       " '__setattr__',\n",
       " '__setitem__',\n",
       " '__sizeof__',\n",
       " '__str__',\n",
       " '__subclasshook__',\n",
       " 'append',\n",
       " 'clear',\n",
       " 'copy',\n",
       " 'count',\n",
       " 'extend',\n",
       " 'index',\n",
       " 'insert',\n",
       " 'pop',\n",
       " 'remove',\n",
       " 'reverse',\n",
       " 'sort']"
      ]
     },
     "execution_count": 3,
     "metadata": {},
     "output_type": "execute_result"
    }
   ],
   "source": [
    "dir(lista)"
   ]
  },
  {
   "cell_type": "code",
   "execution_count": 12,
   "id": "6dffe5b8",
   "metadata": {},
   "outputs": [],
   "source": [
    "class namorada():\n",
    "    def __init__(self, nome):\n",
    "        self.nome = nome\n",
    "        \n",
    "    def __str__(self):\n",
    "        return \"Gabriela\"\n",
    "    "
   ]
  },
  {
   "cell_type": "code",
   "execution_count": 13,
   "id": "00257b5b",
   "metadata": {},
   "outputs": [],
   "source": [
    "# Instanciando o objeto a partir da classe\n",
    "\n",
    "namo = namorada(nome = 'Gabriela')"
   ]
  },
  {
   "cell_type": "code",
   "execution_count": 14,
   "id": "f933bb05",
   "metadata": {},
   "outputs": [
    {
     "data": {
      "text/plain": [
       "'Gabriela'"
      ]
     },
     "execution_count": 14,
     "metadata": {},
     "output_type": "execute_result"
    }
   ],
   "source": [
    "namo.nome"
   ]
  },
  {
   "cell_type": "code",
   "execution_count": 15,
   "id": "cc3222fc",
   "metadata": {},
   "outputs": [
    {
     "data": {
      "text/plain": [
       "'Gabriela'"
      ]
     },
     "execution_count": 15,
     "metadata": {},
     "output_type": "execute_result"
    }
   ],
   "source": [
    "str(namo)"
   ]
  },
  {
   "cell_type": "markdown",
   "id": "e1f7aabf",
   "metadata": {},
   "source": [
    "# Isso aqui é instanciar, criar objeto a partir da classe"
   ]
  },
  {
   "cell_type": "code",
   "execution_count": 16,
   "id": "25ac757a",
   "metadata": {},
   "outputs": [],
   "source": [
    "outroobjeto = namorada(nome = \"Gabi\")"
   ]
  },
  {
   "cell_type": "code",
   "execution_count": 17,
   "id": "edd47c43",
   "metadata": {},
   "outputs": [
    {
     "data": {
      "text/plain": [
       "<__main__.namorada at 0x168238add30>"
      ]
     },
     "execution_count": 17,
     "metadata": {},
     "output_type": "execute_result"
    }
   ],
   "source": [
    "outroobjeto"
   ]
  },
  {
   "cell_type": "code",
   "execution_count": 18,
   "id": "4636b07c",
   "metadata": {},
   "outputs": [
    {
     "name": "stdout",
     "output_type": "stream",
     "text": [
      "Gabriela\n"
     ]
    }
   ],
   "source": [
    "print(outroobjeto)"
   ]
  },
  {
   "cell_type": "code",
   "execution_count": 19,
   "id": "28f328e3",
   "metadata": {},
   "outputs": [
    {
     "data": {
      "text/plain": [
       "'Gabriela'"
      ]
     },
     "execution_count": 19,
     "metadata": {},
     "output_type": "execute_result"
    }
   ],
   "source": [
    "str(outroobjeto)"
   ]
  },
  {
   "cell_type": "code",
   "execution_count": 20,
   "id": "3ed09155",
   "metadata": {},
   "outputs": [
    {
     "data": {
      "text/plain": [
       "'Gabi'"
      ]
     },
     "execution_count": 20,
     "metadata": {},
     "output_type": "execute_result"
    }
   ],
   "source": [
    "outroobjeto.nome"
   ]
  },
  {
   "cell_type": "markdown",
   "id": "b038e7f2",
   "metadata": {},
   "source": [
    "# Outro Exemplo"
   ]
  },
  {
   "cell_type": "code",
   "execution_count": 52,
   "id": "0803c772",
   "metadata": {},
   "outputs": [],
   "source": [
    "class Onibus():\n",
    "    \n",
    "    # Atributos essenciais de um onibus\n",
    "    def __init__(self, linha, km):\n",
    "        self.linha = linha\n",
    "        self.km = km\n",
    "        \n",
    "    # O que todo onibus vai printar se eu pedir para printar? \n",
    "    def __str__(self):\n",
    "        return \"Ônibus é lindo\"\n",
    "    \n",
    "    def __len__(self):\n",
    "        # Vamos fingir que todo ônibus tem o mesmo atributo len, de comprimento, mas só pra fingir\n",
    "        return 5\n",
    "    \n",
    "    def __float__(self):\n",
    "        '''Toda vez que eu tratar o busao como número, ele vai retornar esse número aqui'''\n",
    "        return 7.0\n",
    "    \n",
    "    # Vamos definir uma função, um método, uma ação para o ônibus:\n",
    "    def acao(self, valor):\n",
    "        '''multiplicacao'''\n",
    "        self.valor = valor\n",
    "        return self.valor*self.valor\n",
    "    "
   ]
  },
  {
   "cell_type": "code",
   "execution_count": 53,
   "id": "7a302d69",
   "metadata": {},
   "outputs": [],
   "source": [
    "busao1 = Onibus(linha ='a', km =1)"
   ]
  },
  {
   "cell_type": "code",
   "execution_count": 54,
   "id": "a6fa57e6",
   "metadata": {},
   "outputs": [],
   "source": [
    "busao2 = Onibus(linha= 'b', km = 2)"
   ]
  },
  {
   "cell_type": "code",
   "execution_count": 57,
   "id": "32578146",
   "metadata": {},
   "outputs": [
    {
     "data": {
      "text/plain": [
       "14.0"
      ]
     },
     "execution_count": 57,
     "metadata": {},
     "output_type": "execute_result"
    }
   ],
   "source": [
    "float(busao1) + float(busao2)"
   ]
  },
  {
   "cell_type": "code",
   "execution_count": 58,
   "id": "46865850",
   "metadata": {},
   "outputs": [
    {
     "data": {
      "text/plain": [
       "3"
      ]
     },
     "execution_count": 58,
     "metadata": {},
     "output_type": "execute_result"
    }
   ],
   "source": [
    "busao1.km + busao2.km"
   ]
  },
  {
   "cell_type": "code",
   "execution_count": null,
   "id": "c0bae5b7",
   "metadata": {},
   "outputs": [],
   "source": [
    "busao1.linha + busao2.linha"
   ]
  },
  {
   "cell_type": "markdown",
   "id": "d614aace",
   "metadata": {},
   "source": [
    "# Instanciar o objeto \"busao\" a partir da classe Onibus"
   ]
  },
  {
   "cell_type": "code",
   "execution_count": 39,
   "id": "5fcce3a2",
   "metadata": {},
   "outputs": [],
   "source": [
    "busao = Onibus(linha = '715M', km = 15)"
   ]
  },
  {
   "cell_type": "code",
   "execution_count": 40,
   "id": "5397f297",
   "metadata": {},
   "outputs": [
    {
     "name": "stdout",
     "output_type": "stream",
     "text": [
      "Ônibus é lindo\n"
     ]
    }
   ],
   "source": [
    "# Chamar o método especial str\n",
    "print(busao)"
   ]
  },
  {
   "cell_type": "code",
   "execution_count": 41,
   "id": "07688807",
   "metadata": {},
   "outputs": [
    {
     "data": {
      "text/plain": [
       "5"
      ]
     },
     "execution_count": 41,
     "metadata": {},
     "output_type": "execute_result"
    }
   ],
   "source": [
    "len(busao)"
   ]
  },
  {
   "cell_type": "code",
   "execution_count": 42,
   "id": "02315be3",
   "metadata": {},
   "outputs": [],
   "source": [
    "?busao.acao"
   ]
  },
  {
   "cell_type": "code",
   "execution_count": 43,
   "id": "9a33ed8c",
   "metadata": {},
   "outputs": [
    {
     "data": {
      "text/plain": [
       "25"
      ]
     },
     "execution_count": 43,
     "metadata": {},
     "output_type": "execute_result"
    }
   ],
   "source": [
    "busao.acao(valor = 5)"
   ]
  },
  {
   "cell_type": "code",
   "execution_count": 44,
   "id": "9d178baf",
   "metadata": {},
   "outputs": [
    {
     "data": {
      "text/plain": [
       "'715M'"
      ]
     },
     "execution_count": 44,
     "metadata": {},
     "output_type": "execute_result"
    }
   ],
   "source": [
    "busao.linha"
   ]
  },
  {
   "cell_type": "code",
   "execution_count": 45,
   "id": "15b12b6b",
   "metadata": {},
   "outputs": [
    {
     "data": {
      "text/plain": [
       "15"
      ]
     },
     "execution_count": 45,
     "metadata": {},
     "output_type": "execute_result"
    }
   ],
   "source": [
    "busao.km"
   ]
  },
  {
   "cell_type": "markdown",
   "id": "1fee5192",
   "metadata": {},
   "source": [
    "# Exemplo youtube"
   ]
  },
  {
   "cell_type": "code",
   "execution_count": 90,
   "id": "5627709d",
   "metadata": {},
   "outputs": [],
   "source": [
    "class num:\n",
    "    \n",
    "    '''Classe que simula um número inteiro'''\n",
    "    \n",
    "    def __init__(self, numero):\n",
    "        self.numero = numero\n",
    "        \n",
    "    # Representação como string\n",
    "    def __repr__(self):\n",
    "        return 'Num: {}'.format(self.numero)\n",
    "    \n",
    "    # Como se compoortará em operações de adição:\n",
    "    def __add__(self, op):\n",
    "        return self.numero + 10*op\n",
    "    \n",
    "    def __mul__(self, op):\n",
    "        return self.numero * op\n",
    "        "
   ]
  },
  {
   "cell_type": "code",
   "execution_count": 91,
   "id": "aef953fc",
   "metadata": {},
   "outputs": [],
   "source": [
    "numero = num(numero = 5)"
   ]
  },
  {
   "cell_type": "code",
   "execution_count": 92,
   "id": "09e00471",
   "metadata": {},
   "outputs": [
    {
     "data": {
      "text/plain": [
       "10"
      ]
     },
     "execution_count": 92,
     "metadata": {},
     "output_type": "execute_result"
    }
   ],
   "source": [
    "numero * 2"
   ]
  },
  {
   "cell_type": "code",
   "execution_count": 86,
   "id": "c5252158",
   "metadata": {},
   "outputs": [
    {
     "data": {
      "text/plain": [
       "'Num: 5'"
      ]
     },
     "execution_count": 86,
     "metadata": {},
     "output_type": "execute_result"
    }
   ],
   "source": [
    "str(numero)"
   ]
  },
  {
   "cell_type": "code",
   "execution_count": 89,
   "id": "53d25d3a",
   "metadata": {},
   "outputs": [
    {
     "data": {
      "text/plain": [
       "35"
      ]
     },
     "execution_count": 89,
     "metadata": {},
     "output_type": "execute_result"
    }
   ],
   "source": [
    "numero + 3"
   ]
  },
  {
   "cell_type": "code",
   "execution_count": 93,
   "id": "1c2ed831",
   "metadata": {},
   "outputs": [],
   "source": [
    "# Filam"
   ]
  },
  {
   "cell_type": "code",
   "execution_count": 146,
   "id": "47a65fc4",
   "metadata": {},
   "outputs": [],
   "source": [
    "class Fila:\n",
    "    # *args pede uma tupla\n",
    "    def __init__(self, *args):\n",
    "        # list para ver se comportando como lista\n",
    "        self.valores = list(args)\n",
    "        \n",
    "    # Representação da minha lista:\n",
    "    def __repr__(self):\n",
    "        return f'Fila: {self.valores}'\n",
    "    \n",
    "    # Conseguir retornar os elementos pela posição \n",
    "    # Suporte à slicing\n",
    "    def __getitem__(self, pos):\n",
    "        return self.valores[pos]\n",
    "    \n",
    "    # Receber mais um argumento, posição e valor\n",
    "    def __setitem__(self, pos, val):\n",
    "        # não retorna nada, só atualiza valores colocando mais um elemento\n",
    "        self.valores[pos] = val"
   ]
  },
  {
   "cell_type": "code",
   "execution_count": 138,
   "id": "537323c6",
   "metadata": {},
   "outputs": [],
   "source": [
    "objetofila = Fila(1,2,3,4,5,6)"
   ]
  },
  {
   "cell_type": "code",
   "execution_count": 139,
   "id": "58e47596",
   "metadata": {},
   "outputs": [
    {
     "data": {
      "text/plain": [
       "3"
      ]
     },
     "execution_count": 139,
     "metadata": {},
     "output_type": "execute_result"
    }
   ],
   "source": [
    "objetofila[2]"
   ]
  },
  {
   "cell_type": "code",
   "execution_count": 140,
   "id": "0d970dd0",
   "metadata": {},
   "outputs": [
    {
     "data": {
      "text/plain": [
       "4"
      ]
     },
     "execution_count": 140,
     "metadata": {},
     "output_type": "execute_result"
    }
   ],
   "source": [
    "objetofila[3]"
   ]
  },
  {
   "cell_type": "code",
   "execution_count": 141,
   "id": "e6a35138",
   "metadata": {},
   "outputs": [
    {
     "data": {
      "text/plain": [
       "[1, 2, 3, 4, 5, 6]"
      ]
     },
     "execution_count": 141,
     "metadata": {},
     "output_type": "execute_result"
    }
   ],
   "source": [
    "objetofila.valores"
   ]
  },
  {
   "cell_type": "code",
   "execution_count": 142,
   "id": "5204a662",
   "metadata": {},
   "outputs": [
    {
     "data": {
      "text/plain": [
       "Fila: [1, 2, 3, 4, 5, 6]"
      ]
     },
     "execution_count": 142,
     "metadata": {},
     "output_type": "execute_result"
    }
   ],
   "source": [
    "objetofila"
   ]
  },
  {
   "cell_type": "markdown",
   "id": "04b530d8",
   "metadata": {},
   "source": [
    "### Mudar valor na fila"
   ]
  },
  {
   "cell_type": "code",
   "execution_count": 144,
   "id": "7596a788",
   "metadata": {},
   "outputs": [],
   "source": [
    "objetofila[2] = 7"
   ]
  },
  {
   "cell_type": "code",
   "execution_count": 145,
   "id": "2b035851",
   "metadata": {},
   "outputs": [
    {
     "data": {
      "text/plain": [
       "Fila: [1, 2, 7, 4, 5, 6]"
      ]
     },
     "execution_count": 145,
     "metadata": {},
     "output_type": "execute_result"
    }
   ],
   "source": [
    "objetofila"
   ]
  }
 ],
 "metadata": {
  "kernelspec": {
   "display_name": "Python 3",
   "language": "python",
   "name": "python3"
  },
  "language_info": {
   "codemirror_mode": {
    "name": "ipython",
    "version": 3
   },
   "file_extension": ".py",
   "mimetype": "text/x-python",
   "name": "python",
   "nbconvert_exporter": "python",
   "pygments_lexer": "ipython3",
   "version": "3.8.8"
  }
 },
 "nbformat": 4,
 "nbformat_minor": 5
}
