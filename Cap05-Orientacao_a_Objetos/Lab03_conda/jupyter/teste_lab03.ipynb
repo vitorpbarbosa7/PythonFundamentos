{
 "cells": [
  {
   "cell_type": "code",
   "execution_count": 1,
   "metadata": {},
   "outputs": [],
   "source": [
    "#dataset"
   ]
  },
  {
   "cell_type": "code",
   "execution_count": 4,
   "metadata": {},
   "outputs": [
    {
     "name": "stdout",
     "output_type": "stream",
     "text": [
      "banana\n"
     ]
    }
   ],
   "source": [
    "dinamica = ['b','a','n','a','n','a']\n",
    "\n",
    "nowword = ''.join(dinamica)\n",
    "\n",
    "print(nowword)"
   ]
  },
  {
   "cell_type": "code",
   "execution_count": null,
   "metadata": {},
   "outputs": [],
   "source": [
    "# numero = random.randint(0,len(dataset)-1)\n",
    "# print(numero)\n",
    "# palavra = dataset[numero]\n",
    "palavra = 'banana'\n",
    "#Trabalhar em cima dos indices:\n",
    "list(enumerate(palavra))\n",
    "\n",
    "indices = []\n",
    "letras = []\n",
    "for index, letra in enumerate(palavra):\n",
    "    indices.append(index)\n",
    "    letras.append(letra)\n",
    "    #print(index, letra)\n",
    "    \n",
    "print(indices, letras)"
   ]
  },
  {
   "cell_type": "code",
   "execution_count": null,
   "metadata": {},
   "outputs": [],
   "source": [
    "tentativas = 7\n",
    "acertos = 0\n",
    "tent = 0\n",
    "status = False #Não adivinhou nada\n",
    "#Inicializando a lista vazia:\n",
    "dinamica = [None] * len(letras)\n",
    "# print(dinamica)\n",
    "# print(len(dinamica))\n",
    "        \n",
    "while status == False:\n",
    "        letra = input(\"Digite uma letra \\n\")\n",
    "        #Percorrer os indices:\n",
    "        for indice in indices:\n",
    "            if letra == letras[indice]:\n",
    "                acertos +=1\n",
    "                print(\"Número de letras certas já: %d\" %(acertos))\n",
    "                #Adicionar a palavra final as letrinhas\n",
    "                dinamica[indice] = letras[indice]\n",
    "            else:\n",
    "                dinamica[indice] = \"_\"\n",
    "        #Após percorrer, teve-se a tentativa \n",
    "        tent +=1\n",
    "        print(\"Número de tentativas %d\" %(tent))\n",
    "                #Puxar método para imprimir a forquinha lá \n",
    "                #game.print()\n",
    "                \n",
    "        print(\"Palavra até o momento %s\" %(dinamica))\n",
    "    \n",
    "        if acertos == len(palavra) and tent < tentativas:\n",
    "            status = True #Adivinhou tudo \n",
    "            print(\"Você ganhou o jogo\")\n",
    "            \n",
    "        if tent >=tentativas:\n",
    "            status = True #Acabou\n",
    "            print(\"Você perdeu\")\n",
    "            "
   ]
  },
  {
   "cell_type": "code",
   "execution_count": null,
   "metadata": {},
   "outputs": [],
   "source": []
  }
 ],
 "metadata": {
  "kernelspec": {
   "display_name": "Python 3",
   "language": "python",
   "name": "python3"
  },
  "language_info": {
   "codemirror_mode": {
    "name": "ipython",
    "version": 3
   },
   "file_extension": ".py",
   "mimetype": "text/x-python",
   "name": "python",
   "nbconvert_exporter": "python",
   "pygments_lexer": "ipython3",
   "version": "3.7.0"
  }
 },
 "nbformat": 4,
 "nbformat_minor": 2
}
