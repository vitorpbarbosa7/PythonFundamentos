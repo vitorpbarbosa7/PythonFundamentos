{
 "cells": [
  {
   "cell_type": "code",
   "execution_count": null,
   "metadata": {},
   "outputs": [],
   "source": [
    "import math\n",
    "\n",
    "numero = 15\n",
    "listaprimos = []\n",
    "i = 2\n",
    "status = True\n",
    "while i < numero:\n",
    "    if numero%i ==0:\n",
    "        status = False #Ele não é primo\n",
    "        break\n",
    "        #se todas vezes que ele fizer isso, não der primo\n",
    "    else:\n",
    "        status = True\n",
    "    i +=1\n",
    "        \n",
    "if status == False:\n",
    "    print(\"Número não é primo\")\n",
    "else:\n",
    "    print(\"Número é primo\")"
   ]
  },
  {
   "cell_type": "markdown",
   "metadata": {},
   "source": [
    "# <font color='blue'>Data Science Academy - Python Fundamentos - Capítulo 7</font>\n",
    "\n",
    "## Download: http://github.com/dsacademybr"
   ]
  },
  {
   "cell_type": "markdown",
   "metadata": {},
   "source": [
    "## Missão: Gerar uma lista de números primos."
   ]
  },
  {
   "cell_type": "markdown",
   "metadata": {},
   "source": [
    "## Nível de Dificuldade: Médio"
   ]
  },
  {
   "cell_type": "markdown",
   "metadata": {},
   "source": [
    "## Premissas\n",
    "\n",
    "* É correto que 1 não seja considerado um número primo?\n",
    "     * Sim\n",
    "* Podemos assumir que as entradas são válidas?\n",
    "     * Não\n",
    "* Podemos supor que isso se encaixa na memória?\n",
    "     * Sim"
   ]
  },
  {
   "cell_type": "markdown",
   "metadata": {},
   "source": [
    "## Teste Cases\n",
    "\n",
    "* None -> Exception\n",
    "* Not an int -> Exception\n",
    "* 20 -> [False, False, True, True, False, True, False, True, False, False, False, True, False, True, False, False, False, True, False, True]"
   ]
  },
  {
   "cell_type": "markdown",
   "metadata": {},
   "source": [
    "## Algoritmo\n",
    "\n",
    "Para um número ser primo, ele deve ser 2 ou maior e não pode ser divisível por outro número diferente de si mesmo (e 1).\n",
    "\n",
    "Todos os números não-primos são divisíveis por um número primo.\n",
    "\n",
    "* Use uma matriz (array) para manter o controle de cada número inteiro até o máximo\n",
    "* Comece em 2, termine em sqrt (max)\n",
    "     * Podemos usar o sqrt (max) em vez do max porque:\n",
    "         * Para cada valor que divide o número de entrada uniformemente, há um complemento b onde a * b = n\n",
    "         * Se a> sqrt (n) então b <sqrt (n) porque sqrt (n ^ 2) = n\n",
    "     * \"Cross off\" todos os números divisíveis por 2, 3, 5, 7, ... configurando array [index] para False"
   ]
  },
  {
   "cell_type": "markdown",
   "metadata": {},
   "source": [
    "## Solução"
   ]
  },
  {
   "cell_type": "code",
   "execution_count": 6,
   "metadata": {},
   "outputs": [
    {
     "name": "stdout",
     "output_type": "stream",
     "text": [
      "[2, 3, 4, 5, 7, 9, 11, 13, 17, 19, 23, 25, 29, 31, 37, 41, 43, 47]\n"
     ]
    }
   ],
   "source": [
    "import math\n",
    "\n",
    "maximo = 50\n",
    "\n",
    "listanumeros = list(range(2,maximo))\n",
    "\n",
    "listaprimos = []\n",
    "\n",
    "index = 0\n",
    "\n",
    "while index < len(listanumeros)-1:\n",
    "    status = True\n",
    "    i = 2\n",
    "#     print(listanumeros[index])\n",
    "    while i  < listanumeros[index]: #Dividir até o número menor que ele \n",
    "        if listanumeros[index]%math.sqrt(i)==0:\n",
    "            status = False\n",
    "            break #Já podemos sair, porque ele não é primo\n",
    "        else:\n",
    "            status = True\n",
    "        i = i + 1\n",
    "    if status == True:\n",
    "        listaprimos.append(listanumeros[index])\n",
    "    index +=1\n",
    "    \n",
    "print(listaprimos)"
   ]
  },
  {
   "cell_type": "code",
   "execution_count": 19,
   "metadata": {},
   "outputs": [
    {
     "ename": "IndentationError",
     "evalue": "expected an indented block (<ipython-input-19-c01b20819d26>, line 10)",
     "output_type": "error",
     "traceback": [
      "\u001b[1;36m  File \u001b[1;32m\"<ipython-input-19-c01b20819d26>\"\u001b[1;36m, line \u001b[1;32m10\u001b[0m\n\u001b[1;33m    def _cross_off(self, array, prime):\u001b[0m\n\u001b[1;37m      ^\u001b[0m\n\u001b[1;31mIndentationError\u001b[0m\u001b[1;31m:\u001b[0m expected an indented block\n"
     ]
    }
   ],
   "source": [
    "import math\n",
    "class PrimeGenerator(object):\n",
    "\n",
    "    def generate_primes(self, max_num):\n",
    "        # Implemente aqui sua solução\n",
    "        self.max_num = input(\"Digite um número: \\n\")\n",
    "        if self.max_num not int\n",
    "        except ValueError as e:\n",
    "            print(\"Você digitou um número diferente de inteiro:\")\n",
    "        listanumeros = list(range(2,self.max_num))\n",
    "        listaprimos = []\n",
    "        index = 0\n",
    "        while index < len(listanumeros)-1:\n",
    "            status = True\n",
    "            i = 2\n",
    "        #     print(listanumeros[index])\n",
    "            while i  < listanumeros[index]: #Dividir até o número menor que ele \n",
    "                if listanumeros[index]%i==0:\n",
    "                    status = False\n",
    "                    break #Já podemos sair, porque ele não é primo\n",
    "                else:\n",
    "                    status = True\n",
    "                i = i + 1\n",
    "            if status == True:\n",
    "                listaprimos.append(listanumeros[index])\n",
    "            index +=1\n",
    "        \n",
    "    def _cross_off(self, array, prime):\n",
    "       # Implemente aqui sua solução\n",
    "\n",
    "    def _next_prime(self, array, prime):\n",
    "        # Implemente aqui sua solução"
   ]
  },
  {
   "cell_type": "markdown",
   "metadata": {},
   "source": [
    "## Teste da Solução"
   ]
  },
  {
   "cell_type": "code",
   "execution_count": null,
   "metadata": {},
   "outputs": [],
   "source": [
    "%%writefile missao2.py\n",
    "from nose.tools import assert_equal, assert_raises\n",
    "\n",
    "\n",
    "class TestMath(object):\n",
    "\n",
    "    def test_generate_primes(self):\n",
    "        prime_generator = PrimeGenerator()\n",
    "        assert_raises(TypeError, prime_generator.generate_primes, None) #Se não foi digitado nada, tratamento do erro\n",
    "        assert_raises(TypeError, prime_generator.generate_primes, 98.6) #Se for digitado um float, tratamento do erro \n",
    "        assert_equal(prime_generator.generate_primes(20), [False, False, True, \n",
    "                                                           True, False, True, \n",
    "                                                           False, True, False, \n",
    "                                                           False, False, True, \n",
    "                                                           False, True, False, \n",
    "                                                           False, False, True, \n",
    "                                                           False, True])\n",
    "        print('Sua solução foi executada com sucesso! Parabéns!')\n",
    "\n",
    "\n",
    "def main():\n",
    "    test = TestMath()\n",
    "    test.test_generate_primes()\n",
    "\n",
    "\n",
    "if __name__ == '__main__':\n",
    "    main()"
   ]
  },
  {
   "cell_type": "code",
   "execution_count": null,
   "metadata": {},
   "outputs": [],
   "source": [
    "%run -i missao2.py"
   ]
  },
  {
   "cell_type": "markdown",
   "metadata": {},
   "source": [
    "## Fim"
   ]
  },
  {
   "cell_type": "markdown",
   "metadata": {},
   "source": [
    "### Obrigado - Data Science Academy - <a href=\"http://facebook.com/dsacademybr\">facebook.com/dsacademybr</a>"
   ]
  }
 ],
 "metadata": {
  "kernelspec": {
   "display_name": "Python 3",
   "language": "python",
   "name": "python3"
  },
  "language_info": {
   "codemirror_mode": {
    "name": "ipython",
    "version": 3
   },
   "file_extension": ".py",
   "mimetype": "text/x-python",
   "name": "python",
   "nbconvert_exporter": "python",
   "pygments_lexer": "ipython3",
   "version": "3.7.0"
  }
 },
 "nbformat": 4,
 "nbformat_minor": 1
}
