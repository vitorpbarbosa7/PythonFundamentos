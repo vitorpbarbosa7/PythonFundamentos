{
 "cells": [
  {
   "cell_type": "code",
   "execution_count": 27,
   "metadata": {},
   "outputs": [
    {
     "name": "stdout",
     "output_type": "stream",
     "text": [
      "0cc175b9c0f1b6a831c399e269772661\n"
     ]
    }
   ],
   "source": [
    "import hashlib\n",
    "\n",
    "h = hashlib.md5()\n",
    "string1 = \"a\"\n",
    "#Utilizar o método encode sobre o objeto string1 para deixa-lo no tipo de unicode utf8\n",
    "#Antes de gerar um hash\n",
    "h.update(string1.encode('utf-8'))\n",
    "print( h.hexdigest())"
   ]
  },
  {
   "cell_type": "code",
   "execution_count": 62,
   "metadata": {},
   "outputs": [
    {
     "name": "stdout",
     "output_type": "stream",
     "text": [
      "qwertyuiopasdfghjklzxcvbnmQWERTYUIOPASDFGHJKLZXCVBNM!@#%¨&*\n"
     ]
    }
   ],
   "source": [
    "#Criação do dicionário para jogar no dataset:\n",
    "\n",
    "minusculas = \"qwertyuiopasdfghjklzxcvbnm\"\n",
    "maiusculas = \"QWERTYUIOPASDFGHJKLZXCVBNM\"\n",
    "char_spec = \"!@#%¨&*\"\n",
    "\n",
    "todoscaracteres = minusculas + maiusculas + char_spec\n",
    "\n",
    "print(todoscaracteres)"
   ]
  },
  {
   "cell_type": "code",
   "execution_count": 63,
   "metadata": {
    "collapsed": true
   },
   "outputs": [
    {
     "name": "stdout",
     "output_type": "stream",
     "text": [
      "q b2b04af9f8f3ab06229e03ac8d3c24ca\n",
      "w f15779c65bf7141196d01ae83f19ac83\n",
      "e 494fe7d5554a6c562db19122b99758b4\n",
      "r f5e75f3833fa2a57a2a6405276dffca8\n",
      "t 30bcddb4d4f608e613481774245776bd\n",
      "y 41eb143c46e0794e4af746d029b3019a\n",
      "u 335bff9b9ff6c632250b0d55029520fb\n",
      "i 2112d41c62b8716bd3e6fa49bba50a64\n",
      "o c4c529588fc02ebec7370576e9cee205\n",
      "p de1d8c6d2dd7bbc4a6363aab44ce17f1\n",
      "a 64c96fbedda3bc7324b62f0f9b8398ed\n",
      "s 254b77aeeb28aa1afa2006666781d078\n",
      "d 18b426bc89439c8fe5c1a842cf7fca57\n",
      "f 47b0c5d113576e843bb5aec33ae1bb91\n",
      "g 7341e04b51a5afc8945e9c8032c9a773\n",
      "h a6dfb132ae39d6e43caef38147781759\n",
      "j 8cb6dadfcb1d934c509227c304f1f0d1\n",
      "k b4c8861a796ee208f4c1069a5351daa9\n",
      "l c603521e838a32f96b6c845a55b9f727\n",
      "z dd8060fb105010183997e16c4a79e8d2\n",
      "x da30694f8112b1717cca64f32e1deecc\n",
      "c f11f4fbcbac9ee33484e50fa93a397ac\n",
      "v fdf97b0948c87c10747718ddf86d2cc3\n",
      "b 1098b37f60a94f46e569dfcec965d1e1\n",
      "n 1642a908c621cbdffe31b45d9199988f\n",
      "m 1b38595a7b679846ad71bde0654e44d3\n",
      "Q d6e7a89334871ebe6564a3e8ee13a47e\n",
      "W 9332e5c5db9d62284a2961c03c0f643a\n",
      "E 5a2583ed9d342ea3e1e8568c60017cc7\n",
      "R 4b8ebd7813479c0f47f6b00bf59a2899\n",
      "T 0b3caf7682e1b8438b7ad912224b1ebd\n",
      "Y 28e7bd78c6a1de1c9dea0b64ff96ff5c\n",
      "U 5db6ac6c020b71b690782d41c3dc9020\n",
      "I b3871ead792f9b5e7dea708f4121cbdd\n",
      "O 3243ed365e1791b1e87a92830d663edf\n",
      "P 3a62584bd1789d95f162b2eb949a0948\n",
      "A a75db2a0f301d0a05b752fe3a2ea195d\n",
      "S 639c332edcc132640f8a94de950f0473\n",
      "D bade35ba710f294d0e98434d436341d6\n",
      "F 82b701aa3465cd36e798524baad9f07d\n",
      "G a71d40e9db42c23463e785b312d491e0\n",
      "H 0354aa55c626f8ec6c30410c2f95da7f\n",
      "J bdd8aa2b78712236ac338f9bb3da1a27\n",
      "K 69c6729aa7a9985df94073b5eac340d5\n",
      "L 88f20c14b942b40199c809f5ee90700d\n",
      "Z d7a89c73366f8c9784570cf79a36b702\n",
      "X 3648a2ffe0e8812d44fcaf23ef73a5e7\n",
      "C bdb4de0395837d8518b076777e331c7f\n",
      "V 89b91b537d81e5a8e59ed344d1a83ab6\n",
      "B eb429f50bb1d3f355a9ac94fc31f4c76\n",
      "N a2f5cd9c15b3066a379a95fc6e2e5d71\n",
      "M 8397e2267563a9df394dcb76285d1473\n",
      "! 756c7896ce1d28f89278f854d5a2f5b8\n",
      "@ 83fee70e4b99cee61302e9f8ef92935d\n",
      "# 4fc9ef2d725a1b9f9942675b9cfd7cda\n",
      "% bee33a0f57366aa3b12140b237aee0ec\n",
      "¨ 9d5c849a97e49ce9cdc5cb0f295e9ec9\n",
      "& f29c396446245c66df6ac04538a466d4\n",
      "* afabf495e86968b122fad0ea8e2b8b70\n"
     ]
    }
   ],
   "source": [
    "#Lista de caracteres:\n",
    "#Inicializando documento (dicinoario):\n",
    "documento = {}\n",
    "h = hashlib.md5()\n",
    "h.update(\"a\".encode('utf-8'))\n",
    "# print(h.hexdigest())\n",
    "\n",
    "for item in todoscaracteres:\n",
    "#     documento[item] = h.update(item.encode('utf-8'))\n",
    "    \n",
    "    h.update(item.encode('utf-8'))\n",
    "    documento[item] = (h.hexdigest())\n",
    "    \n",
    "for k,v in documento.items():\n",
    "    print(k,v)"
   ]
  },
  {
   "cell_type": "code",
   "execution_count": 64,
   "metadata": {},
   "outputs": [
    {
     "data": {
      "text/plain": [
       "59"
      ]
     },
     "execution_count": 64,
     "metadata": {},
     "output_type": "execute_result"
    }
   ],
   "source": [
    "len(documento)"
   ]
  },
  {
   "cell_type": "code",
   "execution_count": 71,
   "metadata": {},
   "outputs": [
    {
     "data": {
      "text/plain": [
       "55"
      ]
     },
     "execution_count": 71,
     "metadata": {},
     "output_type": "execute_result"
    }
   ],
   "source": [
    "#Banco de dados no mongodb para armazenar os caracteres:\n",
    "from pymongo import MongoClient\n",
    "\n",
    "conexao = MongoClient('localhost', 27017)\n",
    "\n",
    "db = conexao.dataset_caracteres\n",
    "\n",
    "collection = database_caracteres.dataset_caracteres\n",
    "\n",
    "for k, v in documento.items():\n",
    "    db.collection.insert_one({k:v})\n",
    "    \n",
    "# for doc in db.collection.find():\n",
    "#     print(doc)]\n",
    "    \n",
    "#Número de documentos nesta coleção:\n",
    "\n",
    "collection.estimated_document_count()"
   ]
  },
  {
   "cell_type": "code",
   "execution_count": null,
   "metadata": {},
   "outputs": [],
   "source": []
  }
 ],
 "metadata": {
  "kernelspec": {
   "display_name": "Python 3",
   "language": "python",
   "name": "python3"
  },
  "language_info": {
   "codemirror_mode": {
    "name": "ipython",
    "version": 3
   },
   "file_extension": ".py",
   "mimetype": "text/x-python",
   "name": "python",
   "nbconvert_exporter": "python",
   "pygments_lexer": "ipython3",
   "version": "3.7.0"
  }
 },
 "nbformat": 4,
 "nbformat_minor": 2
}
