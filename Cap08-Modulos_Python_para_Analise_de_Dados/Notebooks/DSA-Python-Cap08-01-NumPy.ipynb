{
 "cells": [
  {
   "cell_type": "markdown",
   "metadata": {},
   "source": [
    "# <font color='blue'>Data Science Academy - Python Fundamentos - Capítulo 8</font>\n",
    "\n",
    "## Download: http://github.com/dsacademybr"
   ]
  },
  {
   "cell_type": "markdown",
   "metadata": {},
   "source": [
    "### NumPy"
   ]
  },
  {
   "cell_type": "markdown",
   "metadata": {},
   "source": [
    "Para importar numpy, utilize: \n",
    "import numpy as np"
   ]
  },
  {
   "cell_type": "markdown",
   "metadata": {},
   "source": [
    "\n",
    "Você também pode utilizar: \n",
    "from numpy import *  . Isso evitará a utilização de np., mas este comando importará todos os módulos do NumPy."
   ]
  },
  {
   "cell_type": "markdown",
   "metadata": {},
   "source": [
    "Para atualizar o NumPy, abra o prompt de comando e digite: pip install numpy -U"
   ]
  },
  {
   "cell_type": "code",
   "execution_count": 3,
   "metadata": {},
   "outputs": [],
   "source": [
    "# Importando o NumPy\n",
    "import numpy as np"
   ]
  },
  {
   "cell_type": "code",
   "execution_count": 2,
   "metadata": {},
   "outputs": [
    {
     "data": {
      "text/plain": [
       "'1.17.4'"
      ]
     },
     "execution_count": 2,
     "metadata": {},
     "output_type": "execute_result"
    }
   ],
   "source": [
    "np.__version__"
   ]
  },
  {
   "cell_type": "markdown",
   "metadata": {},
   "source": [
    "## Criando Arrays"
   ]
  },
  {
   "cell_type": "code",
   "execution_count": 3,
   "metadata": {},
   "outputs": [
    {
     "name": "stdout",
     "output_type": "stream",
     "text": [
      "Help on built-in function array in module numpy:\n",
      "\n",
      "array(...)\n",
      "    array(object, dtype=None, copy=True, order='K', subok=False, ndmin=0)\n",
      "    \n",
      "    Create an array.\n",
      "    \n",
      "    Parameters\n",
      "    ----------\n",
      "    object : array_like\n",
      "        An array, any object exposing the array interface, an object whose\n",
      "        __array__ method returns an array, or any (nested) sequence.\n",
      "    dtype : data-type, optional\n",
      "        The desired data-type for the array.  If not given, then the type will\n",
      "        be determined as the minimum type required to hold the objects in the\n",
      "        sequence.  This argument can only be used to 'upcast' the array.  For\n",
      "        downcasting, use the .astype(t) method.\n",
      "    copy : bool, optional\n",
      "        If true (default), then the object is copied.  Otherwise, a copy will\n",
      "        only be made if __array__ returns a copy, if obj is a nested sequence,\n",
      "        or if a copy is needed to satisfy any of the other requirements\n",
      "        (`dtype`, `order`, etc.).\n",
      "    order : {'K', 'A', 'C', 'F'}, optional\n",
      "        Specify the memory layout of the array. If object is not an array, the\n",
      "        newly created array will be in C order (row major) unless 'F' is\n",
      "        specified, in which case it will be in Fortran order (column major).\n",
      "        If object is an array the following holds.\n",
      "    \n",
      "        ===== ========= ===================================================\n",
      "        order  no copy                     copy=True\n",
      "        ===== ========= ===================================================\n",
      "        'K'   unchanged F & C order preserved, otherwise most similar order\n",
      "        'A'   unchanged F order if input is F and not C, otherwise C order\n",
      "        'C'   C order   C order\n",
      "        'F'   F order   F order\n",
      "        ===== ========= ===================================================\n",
      "    \n",
      "        When ``copy=False`` and a copy is made for other reasons, the result is\n",
      "        the same as if ``copy=True``, with some exceptions for `A`, see the\n",
      "        Notes section. The default order is 'K'.\n",
      "    subok : bool, optional\n",
      "        If True, then sub-classes will be passed-through, otherwise\n",
      "        the returned array will be forced to be a base-class array (default).\n",
      "    ndmin : int, optional\n",
      "        Specifies the minimum number of dimensions that the resulting\n",
      "        array should have.  Ones will be pre-pended to the shape as\n",
      "        needed to meet this requirement.\n",
      "    \n",
      "    Returns\n",
      "    -------\n",
      "    out : ndarray\n",
      "        An array object satisfying the specified requirements.\n",
      "    \n",
      "    See Also\n",
      "    --------\n",
      "    empty_like : Return an empty array with shape and type of input.\n",
      "    ones_like : Return an array of ones with shape and type of input.\n",
      "    zeros_like : Return an array of zeros with shape and type of input.\n",
      "    full_like : Return a new array with shape of input filled with value.\n",
      "    empty : Return a new uninitialized array.\n",
      "    ones : Return a new array setting values to one.\n",
      "    zeros : Return a new array setting values to zero.\n",
      "    full : Return a new array of given shape filled with value.\n",
      "    \n",
      "    \n",
      "    Notes\n",
      "    -----\n",
      "    When order is 'A' and `object` is an array in neither 'C' nor 'F' order,\n",
      "    and a copy is forced by a change in dtype, then the order of the result is\n",
      "    not necessarily 'C' as expected. This is likely a bug.\n",
      "    \n",
      "    Examples\n",
      "    --------\n",
      "    >>> np.array([1, 2, 3])\n",
      "    array([1, 2, 3])\n",
      "    \n",
      "    Upcasting:\n",
      "    \n",
      "    >>> np.array([1, 2, 3.0])\n",
      "    array([ 1.,  2.,  3.])\n",
      "    \n",
      "    More than one dimension:\n",
      "    \n",
      "    >>> np.array([[1, 2], [3, 4]])\n",
      "    array([[1, 2],\n",
      "           [3, 4]])\n",
      "    \n",
      "    Minimum dimensions 2:\n",
      "    \n",
      "    >>> np.array([1, 2, 3], ndmin=2)\n",
      "    array([[1, 2, 3]])\n",
      "    \n",
      "    Type provided:\n",
      "    \n",
      "    >>> np.array([1, 2, 3], dtype=complex)\n",
      "    array([ 1.+0.j,  2.+0.j,  3.+0.j])\n",
      "    \n",
      "    Data-type consisting of more than one element:\n",
      "    \n",
      "    >>> x = np.array([(1,2),(3,4)],dtype=[('a','<i4'),('b','<i4')])\n",
      "    >>> x['a']\n",
      "    array([1, 3])\n",
      "    \n",
      "    Creating an array from sub-classes:\n",
      "    \n",
      "    >>> np.array(np.mat('1 2; 3 4'))\n",
      "    array([[1, 2],\n",
      "           [3, 4]])\n",
      "    \n",
      "    >>> np.array(np.mat('1 2; 3 4'), subok=True)\n",
      "    matrix([[1, 2],\n",
      "            [3, 4]])\n",
      "\n"
     ]
    }
   ],
   "source": [
    "# Help\n",
    "help(np.array)"
   ]
  },
  {
   "cell_type": "code",
   "execution_count": 4,
   "metadata": {},
   "outputs": [],
   "source": [
    "# Array criado a partir de uma lista:\n",
    "vetor1 = np.array([1,2,3,4,5,6,7,8,9,10])"
   ]
  },
  {
   "cell_type": "code",
   "execution_count": 5,
   "metadata": {},
   "outputs": [
    {
     "name": "stdout",
     "output_type": "stream",
     "text": [
      "[ 1  2  3  4  5  6  7  8  9 10]\n"
     ]
    }
   ],
   "source": [
    "print(vetor1)"
   ]
  },
  {
   "cell_type": "code",
   "execution_count": 6,
   "metadata": {},
   "outputs": [
    {
     "data": {
      "text/plain": [
       "numpy.ndarray"
      ]
     },
     "execution_count": 6,
     "metadata": {},
     "output_type": "execute_result"
    }
   ],
   "source": [
    "# Um objeto do tipo ndarray é um recipiente multidimensional de itens do mesmo tipo e tamanho.\n",
    "type(vetor1)"
   ]
  },
  {
   "cell_type": "code",
   "execution_count": 10,
   "metadata": {},
   "outputs": [
    {
     "data": {
      "text/plain": [
       "55"
      ]
     },
     "execution_count": 10,
     "metadata": {},
     "output_type": "execute_result"
    }
   ],
   "source": [
    "vetor1.sum()"
   ]
  },
  {
   "cell_type": "code",
   "execution_count": 11,
   "metadata": {},
   "outputs": [
    {
     "data": {
      "text/plain": [
       "10"
      ]
     },
     "execution_count": 11,
     "metadata": {},
     "output_type": "execute_result"
    }
   ],
   "source": [
    "vetor1.max()"
   ]
  },
  {
   "cell_type": "code",
   "execution_count": 12,
   "metadata": {},
   "outputs": [
    {
     "data": {
      "text/plain": [
       "1"
      ]
     },
     "execution_count": 12,
     "metadata": {},
     "output_type": "execute_result"
    }
   ],
   "source": [
    "vetor1.min()"
   ]
  },
  {
   "cell_type": "code",
   "execution_count": 7,
   "metadata": {},
   "outputs": [
    {
     "data": {
      "text/plain": [
       "array([ 1,  3,  6, 10, 15, 21, 28, 36, 45, 55], dtype=int32)"
      ]
     },
     "execution_count": 7,
     "metadata": {},
     "output_type": "execute_result"
    }
   ],
   "source": [
    "# Usando métodos do array NumPy\n",
    "vetor1.cumsum()"
   ]
  },
  {
   "cell_type": "code",
   "execution_count": 8,
   "metadata": {},
   "outputs": [],
   "source": [
    "# Criando uma lista. Perceba como listas e arrays são objetos diferentes, com diferentes propriedades\n",
    "lst = [0, 1, 2, 3, 4, 5, 6, 7, 8]"
   ]
  },
  {
   "cell_type": "code",
   "execution_count": 9,
   "metadata": {},
   "outputs": [
    {
     "data": {
      "text/plain": [
       "[0, 1, 2, 3, 4, 5, 6, 7, 8]"
      ]
     },
     "execution_count": 9,
     "metadata": {},
     "output_type": "execute_result"
    }
   ],
   "source": [
    "lst"
   ]
  },
  {
   "cell_type": "code",
   "execution_count": null,
   "metadata": {},
   "outputs": [],
   "source": [
    "type(lst)"
   ]
  },
  {
   "cell_type": "code",
   "execution_count": 14,
   "metadata": {},
   "outputs": [
    {
     "data": {
      "text/plain": [
       "1"
      ]
     },
     "execution_count": 14,
     "metadata": {},
     "output_type": "execute_result"
    }
   ],
   "source": [
    "# Imprimindo na tela um elemento específico no array\n",
    "vetor1[0] "
   ]
  },
  {
   "cell_type": "code",
   "execution_count": 15,
   "metadata": {},
   "outputs": [],
   "source": [
    "# Alterando um elemento do array\n",
    "vetor1[0] = 100"
   ]
  },
  {
   "cell_type": "code",
   "execution_count": 16,
   "metadata": {},
   "outputs": [
    {
     "name": "stdout",
     "output_type": "stream",
     "text": [
      "[100   2   3   4   5   6   7   8   9  10]\n"
     ]
    }
   ],
   "source": [
    "print(vetor1)"
   ]
  },
  {
   "cell_type": "code",
   "execution_count": 17,
   "metadata": {},
   "outputs": [
    {
     "ename": "ValueError",
     "evalue": "invalid literal for int() with base 10: 'Novo elemento'",
     "output_type": "error",
     "traceback": [
      "\u001b[1;31m---------------------------------------------------------------------------\u001b[0m",
      "\u001b[1;31mValueError\u001b[0m                                Traceback (most recent call last)",
      "\u001b[1;32m<ipython-input-17-982158d30410>\u001b[0m in \u001b[0;36m<module>\u001b[1;34m()\u001b[0m\n\u001b[0;32m      1\u001b[0m \u001b[1;31m# Não é possível incluir elemento de outro tipo\u001b[0m\u001b[1;33m\u001b[0m\u001b[1;33m\u001b[0m\u001b[0m\n\u001b[1;32m----> 2\u001b[1;33m \u001b[0mvetor1\u001b[0m\u001b[1;33m[\u001b[0m\u001b[1;36m0\u001b[0m\u001b[1;33m]\u001b[0m \u001b[1;33m=\u001b[0m \u001b[1;34m'Novo elemento'\u001b[0m\u001b[1;33m\u001b[0m\u001b[0m\n\u001b[0m",
      "\u001b[1;31mValueError\u001b[0m: invalid literal for int() with base 10: 'Novo elemento'"
     ]
    }
   ],
   "source": [
    "# Não é possível incluir elemento de outro tipo\n",
    "vetor1[0] = 'Novo elemento'"
   ]
  },
  {
   "cell_type": "code",
   "execution_count": 18,
   "metadata": {},
   "outputs": [
    {
     "name": "stdout",
     "output_type": "stream",
     "text": [
      "(10,)\n"
     ]
    }
   ],
   "source": [
    "# Verificando o formato do array\n",
    "print(vetor1.shape)"
   ]
  },
  {
   "cell_type": "code",
   "execution_count": 23,
   "metadata": {},
   "outputs": [],
   "source": [
    "vetor2 = np.array([[1,2],[3,4]])"
   ]
  },
  {
   "cell_type": "code",
   "execution_count": 24,
   "metadata": {},
   "outputs": [
    {
     "name": "stdout",
     "output_type": "stream",
     "text": [
      "[[1 2]\n",
      " [3 4]]\n"
     ]
    }
   ],
   "source": [
    "print(vetor2)"
   ]
  },
  {
   "cell_type": "code",
   "execution_count": 25,
   "metadata": {},
   "outputs": [
    {
     "ename": "TypeError",
     "evalue": "'tuple' object is not callable",
     "output_type": "error",
     "traceback": [
      "\u001b[1;31m---------------------------------------------------------------------------\u001b[0m",
      "\u001b[1;31mTypeError\u001b[0m                                 Traceback (most recent call last)",
      "\u001b[1;32m<ipython-input-25-7b3da6303237>\u001b[0m in \u001b[0;36m<module>\u001b[1;34m()\u001b[0m\n\u001b[1;32m----> 1\u001b[1;33m \u001b[0mvetor2\u001b[0m\u001b[1;33m.\u001b[0m\u001b[0mshape\u001b[0m\u001b[1;33m(\u001b[0m\u001b[1;33m)\u001b[0m\u001b[1;33m\u001b[0m\u001b[0m\n\u001b[0m",
      "\u001b[1;31mTypeError\u001b[0m: 'tuple' object is not callable"
     ]
    }
   ],
   "source": [
    "vetor2.shape()"
   ]
  },
  {
   "cell_type": "code",
   "execution_count": null,
   "metadata": {},
   "outputs": [],
   "source": []
  },
  {
   "cell_type": "markdown",
   "metadata": {},
   "source": [
    "## Funções NumPy"
   ]
  },
  {
   "cell_type": "code",
   "execution_count": 8,
   "metadata": {},
   "outputs": [],
   "source": [
    "# A função arange cria um vetor contendo uma progressão aritmética a partir de um intervalo - start, stop, step\n",
    "vetor3 = np.arange(0, 1, 0.1)"
   ]
  },
  {
   "cell_type": "code",
   "execution_count": 9,
   "metadata": {},
   "outputs": [
    {
     "name": "stdout",
     "output_type": "stream",
     "text": [
      "[0.  0.1 0.2 0.3 0.4 0.5 0.6 0.7 0.8 0.9]\n"
     ]
    }
   ],
   "source": [
    "print(vetor3)"
   ]
  },
  {
   "cell_type": "code",
   "execution_count": 10,
   "metadata": {},
   "outputs": [
    {
     "data": {
      "text/plain": [
       "numpy.ndarray"
      ]
     },
     "execution_count": 10,
     "metadata": {},
     "output_type": "execute_result"
    }
   ],
   "source": [
    "# Verificando o tipo do objeto\n",
    "type(vetor3)"
   ]
  },
  {
   "cell_type": "code",
   "execution_count": 12,
   "metadata": {},
   "outputs": [
    {
     "data": {
      "text/plain": [
       "(10,)"
      ]
     },
     "execution_count": 12,
     "metadata": {},
     "output_type": "execute_result"
    }
   ],
   "source": [
    "# Formato do array\n",
    "np.shape(vetor3)"
   ]
  },
  {
   "cell_type": "code",
   "execution_count": 13,
   "metadata": {},
   "outputs": [
    {
     "name": "stdout",
     "output_type": "stream",
     "text": [
      "float64\n"
     ]
    }
   ],
   "source": [
    "print (vetor3.dtype)"
   ]
  },
  {
   "cell_type": "code",
   "execution_count": 187,
   "metadata": {},
   "outputs": [
    {
     "name": "stdout",
     "output_type": "stream",
     "text": [
      "[1.   1.25 1.5  1.75 2.   2.25 2.5  2.75 3.   3.25 3.5  3.75 4.   4.25\n",
      " 4.5  4.75 5.   5.25 5.5  5.75 6.   6.25 6.5  6.75 7.   7.25 7.5  7.75\n",
      " 8.   8.25 8.5  8.75 9.   9.25 9.5  9.75]\n"
     ]
    }
   ],
   "source": [
    "x = np.arange(1, 10, 0.25)\n",
    "print(x)"
   ]
  },
  {
   "cell_type": "code",
   "execution_count": 14,
   "metadata": {},
   "outputs": [
    {
     "name": "stdout",
     "output_type": "stream",
     "text": [
      "[0. 0. 0. 0. 0. 0. 0. 0. 0. 0.]\n"
     ]
    }
   ],
   "source": [
    "print(np.zeros(10))"
   ]
  },
  {
   "cell_type": "code",
   "execution_count": 15,
   "metadata": {},
   "outputs": [],
   "source": [
    "# Retorna 1 nas posições em diagonal e 0 no restante\n",
    "identidade = np.eye(3)"
   ]
  },
  {
   "cell_type": "code",
   "execution_count": 16,
   "metadata": {},
   "outputs": [
    {
     "data": {
      "text/plain": [
       "array([[1., 0., 0.],\n",
       "       [0., 1., 0.],\n",
       "       [0., 0., 1.]])"
      ]
     },
     "execution_count": 16,
     "metadata": {},
     "output_type": "execute_result"
    }
   ],
   "source": [
    "identidade"
   ]
  },
  {
   "cell_type": "code",
   "execution_count": 17,
   "metadata": {},
   "outputs": [],
   "source": [
    "# Os valores passados como parâmetro, formam uma diagonal\n",
    "diagonal = np.diag(np.array([1, 2, 3, 4]))"
   ]
  },
  {
   "cell_type": "code",
   "execution_count": 18,
   "metadata": {},
   "outputs": [
    {
     "data": {
      "text/plain": [
       "array([[1, 0, 0, 0],\n",
       "       [0, 2, 0, 0],\n",
       "       [0, 0, 3, 0],\n",
       "       [0, 0, 0, 4]])"
      ]
     },
     "execution_count": 18,
     "metadata": {},
     "output_type": "execute_result"
    }
   ],
   "source": [
    "diagonal"
   ]
  },
  {
   "cell_type": "code",
   "execution_count": 21,
   "metadata": {},
   "outputs": [],
   "source": [
    "# Array de números complexos\n",
    "complexos = np.array([1+2j, 3+4j, 5+6*1j])"
   ]
  },
  {
   "cell_type": "code",
   "execution_count": 22,
   "metadata": {},
   "outputs": [
    {
     "data": {
      "text/plain": [
       "array([1.+2.j, 3.+4.j, 5.+6.j])"
      ]
     },
     "execution_count": 22,
     "metadata": {},
     "output_type": "execute_result"
    }
   ],
   "source": [
    "complexos"
   ]
  },
  {
   "cell_type": "code",
   "execution_count": 23,
   "metadata": {},
   "outputs": [],
   "source": [
    "# Array de valores booleanos\n",
    "b = np.array([True, False, False, True])"
   ]
  },
  {
   "cell_type": "code",
   "execution_count": 24,
   "metadata": {},
   "outputs": [
    {
     "data": {
      "text/plain": [
       "array([ True, False, False,  True])"
      ]
     },
     "execution_count": 24,
     "metadata": {},
     "output_type": "execute_result"
    }
   ],
   "source": [
    "b"
   ]
  },
  {
   "cell_type": "code",
   "execution_count": 25,
   "metadata": {},
   "outputs": [],
   "source": [
    "# Array de strings\n",
    "s = np.array(['Python', 'R', 'Julia'])"
   ]
  },
  {
   "cell_type": "code",
   "execution_count": 26,
   "metadata": {},
   "outputs": [
    {
     "data": {
      "text/plain": [
       "array(['Python', 'R', 'Julia'], dtype='<U6')"
      ]
     },
     "execution_count": 26,
     "metadata": {},
     "output_type": "execute_result"
    }
   ],
   "source": [
    "s"
   ]
  },
  {
   "cell_type": "code",
   "execution_count": 36,
   "metadata": {},
   "outputs": [],
   "source": [
    "equallyspaced = np.linspace(0, 10, 5)"
   ]
  },
  {
   "cell_type": "code",
   "execution_count": 37,
   "metadata": {},
   "outputs": [
    {
     "data": {
      "text/plain": [
       "array([ 0. ,  2.5,  5. ,  7.5, 10. ])"
      ]
     },
     "execution_count": 37,
     "metadata": {},
     "output_type": "execute_result"
    }
   ],
   "source": [
    "equallyspaced"
   ]
  },
  {
   "cell_type": "code",
   "execution_count": 27,
   "metadata": {},
   "outputs": [
    {
     "data": {
      "text/plain": [
       "array([ 0.        ,  0.20408163,  0.40816327,  0.6122449 ,  0.81632653,\n",
       "        1.02040816,  1.2244898 ,  1.42857143,  1.63265306,  1.83673469,\n",
       "        2.04081633,  2.24489796,  2.44897959,  2.65306122,  2.85714286,\n",
       "        3.06122449,  3.26530612,  3.46938776,  3.67346939,  3.87755102,\n",
       "        4.08163265,  4.28571429,  4.48979592,  4.69387755,  4.89795918,\n",
       "        5.10204082,  5.30612245,  5.51020408,  5.71428571,  5.91836735,\n",
       "        6.12244898,  6.32653061,  6.53061224,  6.73469388,  6.93877551,\n",
       "        7.14285714,  7.34693878,  7.55102041,  7.75510204,  7.95918367,\n",
       "        8.16326531,  8.36734694,  8.57142857,  8.7755102 ,  8.97959184,\n",
       "        9.18367347,  9.3877551 ,  9.59183673,  9.79591837, 10.        ])"
      ]
     },
     "execution_count": 27,
     "metadata": {},
     "output_type": "execute_result"
    }
   ],
   "source": [
    "# O método linspace (linearly spaced vector) retorna um número de \n",
    "# valores igualmente distribuídos no intervalo especificado \n",
    "np.linspace(0, 10)"
   ]
  },
  {
   "cell_type": "code",
   "execution_count": 28,
   "metadata": {},
   "outputs": [
    {
     "name": "stdout",
     "output_type": "stream",
     "text": [
      "[ 0.          0.71428571  1.42857143  2.14285714  2.85714286  3.57142857\n",
      "  4.28571429  5.          5.71428571  6.42857143  7.14285714  7.85714286\n",
      "  8.57142857  9.28571429 10.        ]\n"
     ]
    }
   ],
   "source": [
    "print(np.linspace(0, 10, 15))"
   ]
  },
  {
   "cell_type": "code",
   "execution_count": 38,
   "metadata": {},
   "outputs": [
    {
     "name": "stdout",
     "output_type": "stream",
     "text": [
      "[1.00000000e+00 3.59381366e+00 1.29154967e+01 4.64158883e+01\n",
      " 1.66810054e+02 5.99484250e+02 2.15443469e+03 7.74263683e+03\n",
      " 2.78255940e+04 1.00000000e+05]\n"
     ]
    }
   ],
   "source": [
    "print(np.logspace(0, 5, 10))"
   ]
  },
  {
   "cell_type": "markdown",
   "metadata": {},
   "source": [
    "## Criando Matrizes"
   ]
  },
  {
   "cell_type": "code",
   "execution_count": 39,
   "metadata": {},
   "outputs": [],
   "source": [
    "# Criando uma matriz\n",
    "matriz = np.array([[1,2,3],[4,5,6]]) "
   ]
  },
  {
   "cell_type": "code",
   "execution_count": 40,
   "metadata": {},
   "outputs": [
    {
     "name": "stdout",
     "output_type": "stream",
     "text": [
      "[[1 2 3]\n",
      " [4 5 6]]\n"
     ]
    }
   ],
   "source": [
    "print(matriz)"
   ]
  },
  {
   "cell_type": "code",
   "execution_count": 41,
   "metadata": {},
   "outputs": [
    {
     "name": "stdout",
     "output_type": "stream",
     "text": [
      "(2, 3)\n"
     ]
    }
   ],
   "source": [
    "print(matriz.shape)"
   ]
  },
  {
   "cell_type": "code",
   "execution_count": 42,
   "metadata": {},
   "outputs": [],
   "source": [
    "# Criando uma matriz 2x3 apenas com números \"1\"\n",
    "matriz1 = np.ones((2,3))"
   ]
  },
  {
   "cell_type": "code",
   "execution_count": 43,
   "metadata": {},
   "outputs": [
    {
     "name": "stdout",
     "output_type": "stream",
     "text": [
      "[[1. 1. 1.]\n",
      " [1. 1. 1.]]\n"
     ]
    }
   ],
   "source": [
    "print(matriz1)"
   ]
  },
  {
   "cell_type": "code",
   "execution_count": 44,
   "metadata": {},
   "outputs": [],
   "source": [
    "# Criando uma matriz a partir de uma lista de listas\n",
    "lista = [[13,81,22], [0, 34, 59], [21, 48, 94]]"
   ]
  },
  {
   "cell_type": "code",
   "execution_count": 45,
   "metadata": {},
   "outputs": [],
   "source": [
    "# A função matrix cria uma matrix a partir de uma sequência\n",
    "matriz2 = np.matrix(lista)"
   ]
  },
  {
   "cell_type": "code",
   "execution_count": 46,
   "metadata": {},
   "outputs": [
    {
     "data": {
      "text/plain": [
       "matrix([[13, 81, 22],\n",
       "        [ 0, 34, 59],\n",
       "        [21, 48, 94]])"
      ]
     },
     "execution_count": 46,
     "metadata": {},
     "output_type": "execute_result"
    }
   ],
   "source": [
    "matriz2"
   ]
  },
  {
   "cell_type": "code",
   "execution_count": 47,
   "metadata": {},
   "outputs": [
    {
     "data": {
      "text/plain": [
       "numpy.matrix"
      ]
     },
     "execution_count": 47,
     "metadata": {},
     "output_type": "execute_result"
    }
   ],
   "source": [
    "type(matriz2)"
   ]
  },
  {
   "cell_type": "code",
   "execution_count": 48,
   "metadata": {},
   "outputs": [
    {
     "data": {
      "text/plain": [
       "(3, 3)"
      ]
     },
     "execution_count": 48,
     "metadata": {},
     "output_type": "execute_result"
    }
   ],
   "source": [
    "# Formato da matriz\n",
    "np.shape(matriz2)"
   ]
  },
  {
   "cell_type": "code",
   "execution_count": 59,
   "metadata": {},
   "outputs": [
    {
     "data": {
      "text/plain": [
       "9"
      ]
     },
     "execution_count": 59,
     "metadata": {},
     "output_type": "execute_result"
    }
   ],
   "source": [
    "matriz2.size"
   ]
  },
  {
   "cell_type": "code",
   "execution_count": 60,
   "metadata": {},
   "outputs": [
    {
     "name": "stdout",
     "output_type": "stream",
     "text": [
      "int32\n"
     ]
    }
   ],
   "source": [
    "print(matriz2.dtype)"
   ]
  },
  {
   "cell_type": "code",
   "execution_count": 61,
   "metadata": {},
   "outputs": [
    {
     "data": {
      "text/plain": [
       "4"
      ]
     },
     "execution_count": 61,
     "metadata": {},
     "output_type": "execute_result"
    }
   ],
   "source": [
    "matriz2.itemsize"
   ]
  },
  {
   "cell_type": "code",
   "execution_count": 62,
   "metadata": {},
   "outputs": [
    {
     "data": {
      "text/plain": [
       "36"
      ]
     },
     "execution_count": 62,
     "metadata": {},
     "output_type": "execute_result"
    }
   ],
   "source": [
    "matriz2.nbytes"
   ]
  },
  {
   "cell_type": "code",
   "execution_count": 70,
   "metadata": {
    "scrolled": true
   },
   "outputs": [
    {
     "name": "stdout",
     "output_type": "stream",
     "text": [
      "94\n"
     ]
    }
   ],
   "source": [
    "print(matriz2[2,2])"
   ]
  },
  {
   "cell_type": "code",
   "execution_count": 71,
   "metadata": {},
   "outputs": [],
   "source": [
    "# Alterando um elemento da matriz\n",
    "matriz2[1,1] = 5000"
   ]
  },
  {
   "cell_type": "code",
   "execution_count": 72,
   "metadata": {},
   "outputs": [
    {
     "data": {
      "text/plain": [
       "matrix([[  13,   81,   22],\n",
       "        [   0, 5000,   59],\n",
       "        [  21,   48,   94]])"
      ]
     },
     "execution_count": 72,
     "metadata": {},
     "output_type": "execute_result"
    }
   ],
   "source": [
    "matriz2"
   ]
  },
  {
   "cell_type": "code",
   "execution_count": 73,
   "metadata": {},
   "outputs": [],
   "source": [
    "x = np.array([1,2])\n",
    "y = np.array([1.0,2.0])\n",
    "z = np.array([1.0,2.0], dtype = np.float64)"
   ]
  },
  {
   "cell_type": "code",
   "execution_count": 75,
   "metadata": {},
   "outputs": [],
   "source": [
    "matriz3 = np.array([[24, 76], [35, 89]], dtype=float)"
   ]
  },
  {
   "cell_type": "code",
   "execution_count": 76,
   "metadata": {},
   "outputs": [
    {
     "data": {
      "text/plain": [
       "array([[24., 76.],\n",
       "       [35., 89.]])"
      ]
     },
     "execution_count": 76,
     "metadata": {},
     "output_type": "execute_result"
    }
   ],
   "source": [
    "matriz3"
   ]
  },
  {
   "cell_type": "code",
   "execution_count": 77,
   "metadata": {},
   "outputs": [
    {
     "data": {
      "text/plain": [
       "8"
      ]
     },
     "execution_count": 77,
     "metadata": {},
     "output_type": "execute_result"
    }
   ],
   "source": [
    "matriz3.itemsize"
   ]
  },
  {
   "cell_type": "code",
   "execution_count": 78,
   "metadata": {},
   "outputs": [
    {
     "data": {
      "text/plain": [
       "32"
      ]
     },
     "execution_count": 78,
     "metadata": {},
     "output_type": "execute_result"
    }
   ],
   "source": [
    "matriz3.nbytes"
   ]
  },
  {
   "cell_type": "code",
   "execution_count": 84,
   "metadata": {},
   "outputs": [
    {
     "data": {
      "text/plain": [
       "(2, 2)"
      ]
     },
     "execution_count": 84,
     "metadata": {},
     "output_type": "execute_result"
    }
   ],
   "source": [
    "matriz3.shape"
   ]
  },
  {
   "cell_type": "code",
   "execution_count": 79,
   "metadata": {},
   "outputs": [
    {
     "data": {
      "text/plain": [
       "2"
      ]
     },
     "execution_count": 79,
     "metadata": {},
     "output_type": "execute_result"
    }
   ],
   "source": [
    "matriz3.ndim"
   ]
  },
  {
   "cell_type": "code",
   "execution_count": 81,
   "metadata": {},
   "outputs": [
    {
     "data": {
      "text/plain": [
       "89.0"
      ]
     },
     "execution_count": 81,
     "metadata": {},
     "output_type": "execute_result"
    }
   ],
   "source": [
    "matriz3[1,1]"
   ]
  },
  {
   "cell_type": "code",
   "execution_count": 82,
   "metadata": {},
   "outputs": [],
   "source": [
    "matriz3[1,1] = 100"
   ]
  },
  {
   "cell_type": "code",
   "execution_count": 83,
   "metadata": {},
   "outputs": [
    {
     "data": {
      "text/plain": [
       "array([[ 24.,  76.],\n",
       "       [ 35., 100.]])"
      ]
     },
     "execution_count": 83,
     "metadata": {},
     "output_type": "execute_result"
    }
   ],
   "source": [
    "matriz3"
   ]
  },
  {
   "cell_type": "code",
   "execution_count": 94,
   "metadata": {},
   "outputs": [],
   "source": [
    "matrizgrande = np.array([[[1,2],[2,3]],[[4,5],[5,6]],[[5,8],[9,8]]])"
   ]
  },
  {
   "cell_type": "code",
   "execution_count": 95,
   "metadata": {},
   "outputs": [
    {
     "name": "stdout",
     "output_type": "stream",
     "text": [
      "[[[1 2]\n",
      "  [2 3]]\n",
      "\n",
      " [[4 5]\n",
      "  [5 6]]\n",
      "\n",
      " [[5 8]\n",
      "  [9 8]]]\n"
     ]
    }
   ],
   "source": [
    "print(matrizgrande)"
   ]
  },
  {
   "cell_type": "code",
   "execution_count": 96,
   "metadata": {},
   "outputs": [
    {
     "data": {
      "text/plain": [
       "3"
      ]
     },
     "execution_count": 96,
     "metadata": {},
     "output_type": "execute_result"
    }
   ],
   "source": [
    "matrizgrande.ndim"
   ]
  },
  {
   "cell_type": "code",
   "execution_count": 93,
   "metadata": {},
   "outputs": [
    {
     "data": {
      "text/plain": [
       "(3, 2, 2)"
      ]
     },
     "execution_count": 93,
     "metadata": {},
     "output_type": "execute_result"
    }
   ],
   "source": [
    "matrizgrande.shape"
   ]
  },
  {
   "cell_type": "code",
   "execution_count": null,
   "metadata": {},
   "outputs": [],
   "source": []
  },
  {
   "cell_type": "markdown",
   "metadata": {},
   "source": [
    "## Usando o Método random() do NumPy"
   ]
  },
  {
   "cell_type": "code",
   "execution_count": 98,
   "metadata": {},
   "outputs": [],
   "source": [
    "lista10rdn = np.random.rand(10)"
   ]
  },
  {
   "cell_type": "code",
   "execution_count": 99,
   "metadata": {},
   "outputs": [],
   "source": [
    "import matplotlib.pyplot as plt\n",
    "%matplotlib inline"
   ]
  },
  {
   "cell_type": "code",
   "execution_count": 100,
   "metadata": {},
   "outputs": [
    {
     "name": "stdout",
     "output_type": "stream",
     "text": [
      "[0.62037194 0.10910829 0.47575166 0.07328025 0.87802469 0.8644088\n",
      " 0.56797825 0.38982524 0.71428131 0.07299928]\n"
     ]
    }
   ],
   "source": [
    "print(np.random.rand(10))"
   ]
  },
  {
   "cell_type": "code",
   "execution_count": 101,
   "metadata": {},
   "outputs": [
    {
     "data": {
      "image/png": "[encoded data removed]",
      "text/plain": [
       "<Figure size 432x288 with 1 Axes>"
      ]
     },
     "metadata": {
      "needs_background": "light"
     },
     "output_type": "display_data"
    }
   ],
   "source": [
    "plt.show(plt.hist(lista10rdn))"
   ]
  },
  {
   "cell_type": "code",
   "execution_count": 103,
   "metadata": {},
   "outputs": [
    {
     "name": "stdout",
     "output_type": "stream",
     "text": [
      "[[ 1.2640877   0.03298292  1.75372541  1.6058082  -0.93658638]\n",
      " [ 0.54042485 -1.2471108  -0.41403093 -2.23919539 -0.01817837]\n",
      " [-0.66620511  0.21680695 -0.84896237 -1.00093276 -1.05784359]\n",
      " [-0.09626973  1.68221155 -0.65302433  0.98964093  0.71780304]\n",
      " [ 0.47827141 -0.32591304  0.39111847 -1.19026277  0.88320046]]\n"
     ]
    }
   ],
   "source": [
    "print(np.random.randn(5,5))"
   ]
  },
  {
   "cell_type": "code",
   "execution_count": 104,
   "metadata": {},
   "outputs": [
    {
     "data": {
      "image/png": "[encoded data removed]",
      "text/plain": [
       "<Figure size 432x288 with 1 Axes>"
      ]
     },
     "metadata": {
      "needs_background": "light"
     },
     "output_type": "display_data"
    }
   ],
   "source": [
    "plt.show(plt.hist(np.random.randn(1000)))"
   ]
  },
  {
   "cell_type": "code",
   "execution_count": 106,
   "metadata": {},
   "outputs": [
    {
     "name": "stdout",
     "output_type": "stream",
     "text": [
      "[[8.21450706e-01 4.10886635e-01 5.15443566e-02 2.01391077e-01\n",
      "  3.34909026e-01 2.42276143e-01 7.96448486e-01 1.17467496e-01\n",
      "  7.43787103e-01 6.18428478e-01 6.60019722e-01 4.43944751e-01\n",
      "  1.21888154e-01 1.08398714e-01 8.46748075e-01 2.36998154e-01\n",
      "  6.64303167e-01 2.21519979e-01 8.09547496e-01 9.54077427e-01\n",
      "  8.30456507e-02 7.67770098e-01 6.26593132e-01 7.78991904e-02\n",
      "  7.21131356e-01 3.01323657e-02 2.78434754e-01 8.22681982e-02\n",
      "  2.65255986e-01 1.72289245e-01]\n",
      " [2.71647927e-02 6.06772970e-01 7.89367618e-01 1.02915826e-01\n",
      "  9.06117493e-01 6.94078469e-01 4.38114294e-01 6.19648261e-02\n",
      "  7.02839499e-01 2.35130679e-01 3.85119093e-01 9.86758184e-01\n",
      "  4.88232895e-01 8.16388680e-01 5.23950219e-01 1.46974368e-01\n",
      "  4.43585649e-01 9.60990740e-01 8.78220151e-01 6.24627681e-01\n",
      "  8.25122822e-01 4.80774028e-02 6.33728008e-01 8.87377720e-01\n",
      "  3.62999913e-02 2.05015406e-01 2.48742423e-01 8.05176739e-01\n",
      "  9.67216421e-01 5.35859304e-01]\n",
      " [8.06007278e-01 4.62429963e-01 8.31460447e-01 8.11192183e-01\n",
      "  2.10294465e-02 7.24640933e-01 9.46472502e-01 1.22901581e-01\n",
      "  1.18390420e-01 5.28922167e-01 3.83934453e-01 8.39941317e-01\n",
      "  8.98218936e-01 8.81167221e-01 8.21837982e-01 7.02729721e-01\n",
      "  4.40648337e-01 2.62590345e-02 6.76400335e-01 8.36755021e-01\n",
      "  8.08555396e-01 9.67292307e-01 9.27150689e-02 1.08628279e-01\n",
      "  4.89177336e-01 2.87177819e-01 7.63674970e-01 5.29265215e-01\n",
      "  2.11581675e-01 1.70718476e-01]\n",
      " [8.88513963e-01 3.65742463e-01 6.96738843e-01 3.89660703e-03\n",
      "  2.50990577e-01 6.17507088e-01 2.61154810e-01 9.26615073e-01\n",
      "  3.18200562e-01 5.18436617e-01 7.39203474e-01 5.08581083e-02\n",
      "  8.38249262e-01 1.87988753e-01 1.18439920e-01 7.99961198e-01\n",
      "  9.93657340e-01 5.30900759e-01 3.02224372e-01 2.92838653e-02\n",
      "  8.29687231e-01 1.15765851e-01 8.96497590e-01 5.11486922e-01\n",
      "  2.98220647e-01 4.97189246e-01 9.92143088e-01 7.22941719e-01\n",
      "  9.56543830e-02 3.51854841e-01]\n",
      " [8.17793106e-01 2.33038956e-01 8.06250952e-01 7.22676828e-01\n",
      "  7.27003404e-01 9.44946181e-01 3.22308471e-01 1.28617866e-01\n",
      "  9.53317202e-01 4.79125415e-01 3.75744039e-01 4.97656293e-01\n",
      "  8.84429746e-01 7.94997664e-01 5.88695032e-01 2.24234115e-01\n",
      "  4.84412356e-01 3.12515155e-02 1.99497899e-01 2.26635753e-01\n",
      "  8.59132975e-01 4.11021906e-03 1.72006857e-01 9.11672180e-01\n",
      "  4.78407168e-01 1.12793537e-01 9.79529184e-01 5.75187622e-02\n",
      "  5.38568160e-01 6.41764760e-01]\n",
      " [1.72623626e-01 2.81363749e-02 3.63752421e-01 9.22606419e-01\n",
      "  1.64860768e-01 1.27307059e-01 2.62393446e-01 9.91214625e-02\n",
      "  1.59381645e-01 7.64533991e-01 5.18480994e-01 8.08319427e-01\n",
      "  6.13810356e-01 9.09674983e-01 6.94193612e-01 4.49755431e-01\n",
      "  4.00471383e-01 9.05554234e-01 7.47347023e-01 1.64427806e-01\n",
      "  9.57118917e-01 9.16217451e-02 7.98311939e-01 5.74811888e-01\n",
      "  8.73320019e-01 8.59337790e-01 3.56068900e-02 4.98204483e-01\n",
      "  2.17755550e-01 6.15817544e-01]\n",
      " [6.51620297e-01 1.97135435e-01 3.31411811e-01 8.04144288e-01\n",
      "  3.22309856e-01 9.33750856e-01 5.95004763e-01 6.47326727e-01\n",
      "  9.31105970e-01 8.61945540e-01 8.49089296e-01 3.14775753e-01\n",
      "  1.66575182e-01 5.73433274e-01 8.34033429e-01 8.57915769e-01\n",
      "  7.78190709e-02 9.81496009e-01 3.26007041e-01 3.41285954e-01\n",
      "  1.20843156e-01 5.04200826e-01 4.55528308e-01 4.83841156e-01\n",
      "  1.97539245e-01 5.28058009e-01 3.32632791e-01 7.91613025e-02\n",
      "  4.53768225e-01 4.62947073e-01]\n",
      " [9.89635678e-01 3.99509653e-01 8.66959872e-02 4.47619799e-01\n",
      "  6.38129359e-01 6.98131752e-01 7.77520853e-01 5.43829301e-01\n",
      "  3.15804533e-01 7.09536611e-01 4.95569879e-01 8.08988420e-01\n",
      "  6.34107732e-01 3.21063505e-01 5.02992651e-01 9.87504417e-01\n",
      "  5.58281135e-01 5.42718422e-01 7.24834721e-01 5.84862637e-01\n",
      "  5.12600900e-01 7.06318318e-02 1.70884795e-02 9.01378045e-01\n",
      "  5.89389872e-01 6.90452219e-01 5.15099250e-01 9.69638558e-01\n",
      "  2.31025549e-01 8.07737627e-01]\n",
      " [1.47179887e-01 6.03337787e-01 1.80685552e-01 8.23063958e-01\n",
      "  1.34312159e-01 2.05957922e-01 2.12376614e-01 3.72514718e-02\n",
      "  6.64678462e-01 8.68150156e-01 3.39596877e-02 8.95063959e-02\n",
      "  7.91624518e-01 4.98291014e-02 4.67495443e-01 8.89202718e-01\n",
      "  1.51169561e-02 8.44649093e-02 4.86100749e-01 3.59885929e-01\n",
      "  3.70887216e-01 4.11587212e-01 3.66615086e-01 5.89530807e-01\n",
      "  2.89837075e-01 6.55932066e-01 8.69878583e-01 8.85511286e-01\n",
      "  7.34791071e-01 1.79802788e-01]\n",
      " [7.27686413e-02 8.54556755e-01 5.04733072e-01 2.90891833e-01\n",
      "  9.33467269e-01 1.52222905e-01 6.37410067e-01 8.38150717e-02\n",
      "  3.75750774e-01 7.06096304e-02 4.42776982e-01 7.58308500e-01\n",
      "  9.31546455e-01 9.33691106e-01 4.19801224e-01 5.74815770e-02\n",
      "  3.33583147e-01 4.40433325e-01 2.08184808e-01 9.64224806e-03\n",
      "  7.32441454e-01 8.35783665e-01 3.64192738e-04 3.78376703e-01\n",
      "  7.47776217e-01 2.94175698e-01 2.95468513e-01 2.14496059e-01\n",
      "  7.80030641e-01 2.19794663e-01]\n",
      " [9.03457695e-01 2.04474766e-01 1.56849343e-01 4.13522577e-01\n",
      "  5.66381766e-01 8.94852301e-01 9.43745952e-01 3.98905991e-01\n",
      "  5.58454038e-01 3.36163245e-01 2.25444761e-01 6.26154150e-01\n",
      "  6.18604421e-02 2.98923566e-02 6.50262918e-01 6.23407217e-01\n",
      "  5.41230996e-01 6.08708843e-01 5.70251546e-01 2.37846867e-03\n",
      "  5.10631711e-01 4.38676472e-01 4.04614452e-01 4.53465886e-01\n",
      "  9.98015159e-01 4.05682523e-01 9.69679761e-01 5.56181800e-01\n",
      "  2.70308461e-01 6.54356556e-01]\n",
      " [1.23279636e-01 4.18008535e-01 6.89497811e-01 7.52273486e-01\n",
      "  3.31241991e-01 8.03845228e-01 3.27694515e-01 5.22369262e-01\n",
      "  1.25370087e-01 2.24575687e-01 6.55099105e-01 9.92833614e-01\n",
      "  3.62599674e-01 4.85031774e-01 2.96569147e-01 3.98513767e-01\n",
      "  4.22025004e-01 5.80536723e-02 6.64651874e-01 2.73128543e-01\n",
      "  7.72781784e-01 9.77893301e-01 6.56295052e-01 1.78845856e-01\n",
      "  2.20225449e-01 6.14785847e-01 4.25710049e-01 5.76927095e-01\n",
      "  1.42294975e-01 4.88424081e-01]\n",
      " [8.02076587e-01 6.73978535e-01 6.32824236e-01 1.29697347e-01\n",
      "  1.18734585e-01 7.42220342e-01 9.07065811e-01 8.00429434e-01\n",
      "  7.49810718e-01 9.46422076e-01 3.50113752e-02 4.11964331e-01\n",
      "  2.85617931e-01 1.94796281e-01 2.04392257e-01 3.42130127e-01\n",
      "  3.81801113e-01 3.82407932e-01 4.38042707e-01 3.22656674e-02\n",
      "  7.46550869e-01 4.23781359e-01 8.81072399e-02 7.22676473e-01\n",
      "  6.00513166e-01 7.83990753e-01 4.72958189e-01 4.48346452e-01\n",
      "  6.62955495e-01 6.09751664e-01]\n",
      " [2.36947295e-01 1.14346288e-02 3.96771742e-01 5.62401432e-01\n",
      "  6.32672960e-02 8.50342188e-01 2.81810387e-01 6.67961273e-01\n",
      "  9.33481090e-01 5.83727420e-01 4.91213403e-01 5.88036367e-01\n",
      "  6.51096840e-02 9.24807131e-01 6.99811519e-01 4.52224322e-01\n",
      "  4.77628118e-01 2.25095306e-01 7.67520900e-01 8.62901323e-01\n",
      "  1.60663097e-01 7.88342881e-01 9.10971723e-01 5.94769890e-01\n",
      "  5.72507625e-01 5.70516199e-01 3.98752511e-02 5.03506063e-01\n",
      "  4.75155762e-02 1.69743077e-01]\n",
      " [3.23924318e-01 4.22854306e-01 5.66838891e-01 9.42250889e-01\n",
      "  4.14091956e-01 1.73194908e-01 7.55148878e-01 4.94623502e-01\n",
      "  7.64584900e-01 8.99938030e-02 3.03562570e-01 9.35168890e-01\n",
      "  3.72468928e-01 5.01331505e-01 2.36934581e-01 6.39692492e-01\n",
      "  3.78986094e-01 9.84941323e-01 5.65204826e-01 9.26759172e-01\n",
      "  5.06865257e-01 7.71038083e-02 1.59111223e-01 4.04609394e-01\n",
      "  8.75306878e-01 5.06868229e-03 2.46619354e-01 9.80993932e-03\n",
      "  1.06291863e-01 1.13420635e-01]\n",
      " [1.52491090e-02 6.71504848e-01 7.74778657e-01 9.54736727e-01\n",
      "  4.03306884e-01 9.96363844e-01 1.68016696e-01 5.75133834e-01\n",
      "  7.08705137e-01 6.16837275e-01 3.91187786e-02 7.39359192e-01\n",
      "  8.52035594e-01 2.31519220e-01 1.59065128e-01 1.51459658e-01\n",
      "  4.54263131e-01 4.23567278e-02 6.69833830e-01 9.67107221e-01\n",
      "  9.80270909e-01 4.37102602e-01 3.22334001e-02 7.71892209e-01\n",
      "  9.82171043e-01 3.90937847e-01 9.54560846e-01 2.40244903e-01\n",
      "  6.12922490e-01 6.70414725e-01]\n",
      " [7.00204756e-01 7.83363576e-01 1.47449291e-01 5.45536655e-01\n",
      "  5.98766828e-01 1.31904463e-01 2.49126091e-01 1.45308476e-01\n",
      "  7.47653281e-01 7.77739062e-01 7.93658724e-01 6.02334725e-01\n",
      "  4.79546273e-01 9.60596992e-01 2.12535667e-01 5.92553440e-01\n",
      "  4.86678701e-01 4.49712483e-01 9.36306212e-01 8.33090475e-01\n",
      "  5.00587063e-01 7.06075098e-01 7.58262674e-01 1.13866626e-01\n",
      "  1.69996867e-01 3.74572899e-01 9.89139164e-02 2.81419937e-01\n",
      "  7.11963170e-02 9.83409743e-01]\n",
      " [3.21103941e-01 6.09561492e-01 1.30998031e-01 9.25478526e-03\n",
      "  7.24548348e-02 2.51841215e-01 5.72038001e-01 1.00756311e-01\n",
      "  4.20399661e-01 3.91066018e-01 1.14420219e-01 4.76935123e-01\n",
      "  7.93794669e-01 9.77859378e-01 9.34766623e-01 2.81635069e-01\n",
      "  2.42571305e-01 9.75446959e-01 9.76807098e-01 6.91900947e-01\n",
      "  7.86534877e-01 7.30823008e-01 1.48863943e-01 9.52932199e-01\n",
      "  3.77756807e-01 8.20027446e-01 2.34728127e-01 6.54914305e-01\n",
      "  7.33292100e-01 4.07608702e-02]\n",
      " [1.78561163e-01 7.63907178e-01 7.25451192e-01 5.41114146e-01\n",
      "  3.85041038e-01 9.47288466e-01 1.33054520e-01 9.92322681e-02\n",
      "  6.60071395e-01 2.77282549e-01 4.44905994e-01 6.39651329e-01\n",
      "  7.60758609e-01 8.61540219e-01 2.89229441e-01 7.18847184e-01\n",
      "  9.78765977e-01 8.38203995e-01 3.58657749e-01 2.42515796e-01\n",
      "  5.93464238e-01 6.33763037e-01 8.76302299e-01 9.16074260e-01\n",
      "  1.11782258e-01 8.32809658e-01 5.14314944e-01 3.21773147e-02\n",
      "  7.41926631e-01 6.51048798e-02]\n",
      " [5.14936281e-01 8.22883667e-01 2.25918459e-01 4.56088768e-01\n",
      "  1.34855541e-01 6.92250007e-01 5.94686685e-01 2.26000054e-01\n",
      "  4.46264646e-01 3.11054315e-01 4.91648038e-01 4.25753547e-01\n",
      "  4.16355943e-01 5.00369591e-03 5.34352507e-01 7.57541870e-01\n",
      "  1.58099759e-01 1.37080150e-01 7.50684546e-01 1.05455153e-01\n",
      "  8.84836841e-01 4.32862866e-01 9.68996731e-01 4.42810640e-01\n",
      "  2.63876626e-01 1.67359230e-01 9.07485695e-01 4.39728001e-01\n",
      "  1.01113402e-01 1.08503505e-01]\n",
      " [9.53276833e-01 9.06000077e-01 7.35753245e-01 5.02946068e-01\n",
      "  1.37459628e-01 9.66127588e-01 3.15957192e-01 8.11394360e-01\n",
      "  2.78636551e-01 9.64998074e-01 6.63437317e-01 4.92189661e-01\n",
      "  9.71087610e-01 3.27185552e-01 4.93341082e-01 6.89343241e-01\n",
      "  2.99461018e-02 5.67773043e-01 9.37320746e-01 5.49093398e-01\n",
      "  5.89904479e-01 1.36135600e-01 4.61761489e-01 4.65821156e-02\n",
      "  5.14045149e-01 1.58511784e-01 9.44116734e-02 1.91254462e-01\n",
      "  3.67890914e-01 9.64930733e-01]\n",
      " [9.50590907e-01 3.91595833e-02 5.94158858e-01 3.57712585e-01\n",
      "  3.84141025e-01 3.74512637e-01 1.36087884e-01 4.76071358e-02\n",
      "  3.59521834e-01 8.99262093e-01 1.39352268e-01 4.77947751e-01\n",
      "  3.39740023e-01 6.28168199e-01 4.26106398e-01 3.22333341e-01\n",
      "  6.18553146e-01 6.49715882e-01 8.49279766e-01 7.28042168e-01\n",
      "  1.40942539e-01 5.19571622e-02 9.62271859e-01 7.43764889e-01\n",
      "  6.88076776e-01 8.79642104e-01 7.11163168e-01 2.66480649e-01\n",
      "  2.84008500e-01 1.16803416e-01]\n",
      " [8.70837726e-01 4.94476021e-01 1.68490979e-01 2.37464318e-01\n",
      "  2.05802066e-01 3.89310429e-01 5.95443683e-01 8.19454853e-01\n",
      "  9.06683212e-01 8.34859250e-01 8.00125924e-01 7.13983391e-01\n",
      "  9.57610276e-01 3.48341481e-01 8.95262497e-01 4.30333038e-01\n",
      "  3.18026333e-01 8.09938402e-01 7.93270651e-01 6.44544335e-01\n",
      "  2.30613576e-02 1.14567988e-01 9.48748292e-01 5.57827443e-01\n",
      "  3.75093796e-01 8.90179931e-01 9.75784651e-01 6.49362979e-02\n",
      "  5.34434382e-01 3.58111205e-01]\n",
      " [3.32445009e-01 7.00739638e-01 5.29940728e-01 4.06318152e-01\n",
      "  4.14443272e-01 6.13030614e-01 7.89799425e-01 1.94511877e-01\n",
      "  1.79012069e-01 8.39971120e-01 6.92837886e-01 9.47075337e-02\n",
      "  1.14272830e-01 6.74329666e-01 6.88622990e-01 4.97113601e-01\n",
      "  8.84148895e-01 5.51981819e-01 2.03917631e-01 1.92256537e-01\n",
      "  7.72910134e-01 8.49931059e-01 7.75148257e-01 8.44009376e-01\n",
      "  4.08218350e-01 5.44326395e-01 9.90305903e-01 9.67274141e-01\n",
      "  1.94450925e-01 8.34429097e-01]\n",
      " [1.14783387e-01 3.97133581e-01 6.41906762e-01 5.21355699e-01\n",
      "  5.62601154e-01 9.13962692e-01 2.65878179e-01 9.56094897e-01\n",
      "  2.82201925e-01 7.93931329e-01 4.05365818e-02 9.43781547e-01\n",
      "  6.78078511e-02 4.50861697e-01 2.98486314e-01 4.91005272e-01\n",
      "  4.34592162e-01 2.71915818e-01 8.22934885e-01 7.26096636e-01\n",
      "  9.31045633e-01 8.18431078e-01 6.48375723e-02 8.68827727e-01\n",
      "  4.85210116e-01 2.15436935e-01 8.81554916e-01 9.38456224e-03\n",
      "  3.14728073e-01 6.43724178e-01]\n",
      " [2.00184456e-01 9.78857602e-01 7.11337615e-01 7.21827579e-01\n",
      "  9.85056844e-01 1.02750199e-01 9.68495091e-01 1.67440190e-01\n",
      "  7.20434911e-01 5.22117619e-01 8.93501622e-01 6.78125283e-01\n",
      "  8.47323712e-02 1.62025364e-01 6.33422544e-01 5.67410638e-02\n",
      "  8.22829628e-01 1.05168058e-01 2.08615693e-01 1.41564792e-01\n",
      "  2.29224686e-01 5.59196652e-01 5.71653075e-01 8.84543383e-01\n",
      "  7.81964595e-01 2.10539999e-01 1.96798063e-01 3.90485559e-01\n",
      "  8.49322816e-01 6.10595728e-01]\n",
      " [7.16201759e-01 2.73485793e-01 7.89258004e-01 6.17628395e-01\n",
      "  5.96863601e-01 1.93445040e-01 7.72936692e-01 1.06897044e-02\n",
      "  7.15019288e-01 5.08472677e-01 5.94578209e-01 1.17352451e-01\n",
      "  7.17344767e-01 2.96882353e-01 7.97311454e-01 5.93604896e-01\n",
      "  3.85404129e-01 8.62940545e-01 5.22478925e-01 8.23449920e-01\n",
      "  7.36825329e-01 3.52363603e-02 8.10788350e-01 8.89497032e-01\n",
      "  3.13372167e-01 3.13372637e-01 5.29181413e-02 8.81370531e-01\n",
      "  3.00467279e-01 4.48971562e-01]\n",
      " [5.65187112e-01 7.14984618e-01 8.95688319e-01 4.51856059e-01\n",
      "  8.92330069e-02 2.31091104e-01 9.74872937e-01 4.78917586e-01\n",
      "  6.08290311e-01 4.67443657e-01 9.69557274e-01 7.36303295e-01\n",
      "  9.73440021e-01 6.01490932e-01 1.97147950e-01 5.45318922e-04\n",
      "  5.46772058e-01 6.25920436e-01 4.80832675e-01 7.24037900e-01\n",
      "  1.78169391e-01 4.67324576e-01 3.83467975e-01 4.03639579e-01\n",
      "  2.49517674e-01 2.26086154e-01 3.92722870e-02 6.39435525e-01\n",
      "  5.54102020e-01 9.18335994e-01]\n",
      " [8.67081264e-01 1.95585626e-01 5.56365727e-02 6.01234931e-01\n",
      "  2.57263925e-02 6.92786956e-01 9.54700105e-01 4.43470942e-01\n",
      "  4.85608065e-01 6.58976130e-02 7.82391281e-01 1.21477574e-01\n",
      "  3.24902504e-01 4.04632383e-01 8.74745729e-01 8.51575139e-01\n",
      "  2.45612813e-01 2.75772177e-01 6.23373926e-01 1.81607081e-01\n",
      "  4.81941534e-01 1.51100715e-01 4.59399702e-02 3.01198473e-01\n",
      "  4.24883206e-01 6.79755398e-02 8.34400417e-01 4.29848645e-01\n",
      "  5.38924195e-02 6.75145711e-01]\n",
      " [5.60413005e-01 4.14189385e-01 4.49907896e-01 9.42956444e-01\n",
      "  2.12383336e-01 4.94288962e-01 8.62957272e-01 3.56211702e-01\n",
      "  9.02935256e-01 5.58648062e-01 6.55192621e-01 8.97828665e-01\n",
      "  1.28178090e-01 2.91453324e-01 2.26432344e-01 8.12617512e-02\n",
      "  3.39684872e-03 5.13082127e-01 6.90828321e-01 2.30655529e-01\n",
      "  2.91344344e-01 6.26828043e-01 1.09007905e-01 7.46181771e-01\n",
      "  3.66672397e-01 6.97355838e-01 7.28185907e-01 9.69359882e-01\n",
      "  9.33694416e-01 8.09260008e-01]]\n"
     ]
    },
    {
     "data": {
      "text/plain": [
       "<matplotlib.colorbar.Colorbar at 0x16b707fbeb8>"
      ]
     },
     "execution_count": 106,
     "metadata": {},
     "output_type": "execute_result"
    },
    {
     "data": {
      "image/png": "[encoded data removed]",
      "text/plain": [
       "<Figure size 432x288 with 2 Axes>"
      ]
     },
     "metadata": {
      "needs_background": "light"
     },
     "output_type": "display_data"
    }
   ],
   "source": [
    "imagem = np.random.rand(30, 30) #Valores randômicos 2x2\n",
    "print(imagem)\n",
    "plt.imshow(imagem, cmap = plt.cm.hot)    \n",
    "plt.colorbar()    "
   ]
  },
  {
   "cell_type": "markdown",
   "metadata": {},
   "source": [
    "## Operações com datasets"
   ]
  },
  {
   "cell_type": "code",
   "execution_count": 107,
   "metadata": {},
   "outputs": [],
   "source": [
    "import os\n",
    "filename = os.path.join('iris.csv') #Não passando caminho completo"
   ]
  },
  {
   "cell_type": "code",
   "execution_count": 108,
   "metadata": {},
   "outputs": [
    {
     "name": "stdout",
     "output_type": "stream",
     "text": [
      "sepal_length,sepal_width,petal_length,petal_width,species\n",
      "5.1,3.5,1.4,0.2,setosa\n",
      "4.9,3,1.4,0.2,setosa\n",
      "4.7,3.2,1.3,0.2,setosa\n",
      "4.6,3.1,1.5,0.2,setosa\n",
      "5,3.6,1.4,0.2,setosa\n",
      "5.4,3.9,1.7,0.4,setosa\n",
      "4.6,3.4,1.4,0.3,setosa\n",
      "5,3.4,1.5,0.2,setosa\n",
      "4.4,2.9,1.4,0.2,setosa\n",
      "4.9,3.1,1.5,0.1,setosa\n",
      "5.4,3.7,1.5,0.2,setosa\n",
      "4.8,3.4,1.6,0.2,setosa\n",
      "4.8,3,1.4,0.1,setosa\n",
      "4.3,3,1.1,0.1,setosa\n",
      "5.8,4,1.2,0.2,setosa\n",
      "5.7,4.4,1.5,0.4,setosa\n",
      "5.4,3.9,1.3,0.4,setosa\n",
      "5.1,3.5,1.4,0.3,setosa\n",
      "5.7,3.8,1.7,0.3,setosa\n",
      "5.1,3.8,1.5,0.3,setosa\n",
      "5.4,3.4,1.7,0.2,setosa\n",
      "5.1,3.7,1.5,0.4,setosa\n",
      "4.6,3.6,1,0.2,setosa\n",
      "5.1,3.3,1.7,0.5,setosa\n",
      "4.8,3.4,1.9,0.2,setosa\n",
      "5,3,1.6,0.2,setosa\n",
      "5,3.4,1.6,0.4,setosa\n",
      "5.2,3.5,1.5,0.2,setosa\n",
      "5.2,3.4,1.4,0.2,setosa\n",
      "4.7,3.2,1.6,0.2,setosa\n",
      "4.8,3.1,1.6,0.2,setosa\n",
      "5.4,3.4,1.5,0.4,setosa\n",
      "5.2,4.1,1.5,0.1,setosa\n",
      "5.5,4.2,1.4,0.2,setosa\n",
      "4.9,3.1,1.5,0.1,setosa\n",
      "5,3.2,1.2,0.2,setosa\n",
      "5.5,3.5,1.3,0.2,setosa\n",
      "4.9,3.1,1.5,0.1,setosa\n",
      "4.4,3,1.3,0.2,setosa\n",
      "5.1,3.4,1.5,0.2,setosa\n",
      "5,3.5,1.3,0.3,setosa\n",
      "4.5,2.3,1.3,0.3,setosa\n",
      "4.4,3.2,1.3,0.2,setosa\n",
      "5,3.5,1.6,0.6,setosa\n",
      "5.1,3.8,1.9,0.4,setosa\n",
      "4.8,3,1.4,0.3,setosa\n",
      "5.1,3.8,1.6,0.2,setosa\n",
      "4.6,3.2,1.4,0.2,setosa\n",
      "5.3,3.7,1.5,0.2,setosa\n",
      "5,3.3,1.4,0.2,setosa\n",
      "7,3.2,4.7,1.4,versicolor\n",
      "6.4,3.2,4.5,1.5,versicolor\n",
      "6.9,3.1,4.9,1.5,versicolor\n",
      "5.5,2.3,4,1.3,versicolor\n",
      "6.5,2.8,4.6,1.5,versicolor\n",
      "5.7,2.8,4.5,1.3,versicolor\n",
      "6.3,3.3,4.7,1.6,versicolor\n",
      "4.9,2.4,3.3,1,versicolor\n",
      "6.6,2.9,4.6,1.3,versicolor\n",
      "5.2,2.7,3.9,1.4,versicolor\n",
      "5,2,3.5,1,versicolor\n",
      "5.9,3,4.2,1.5,versicolor\n",
      "6,2.2,4,1,versicolor\n",
      "6.1,2.9,4.7,1.4,versicolor\n",
      "5.6,2.9,3.6,1.3,versicolor\n",
      "6.7,3.1,4.4,1.4,versicolor\n",
      "5.6,3,4.5,1.5,versicolor\n",
      "5.8,2.7,4.1,1,versicolor\n",
      "6.2,2.2,4.5,1.5,versicolor\n",
      "5.6,2.5,3.9,1.1,versicolor\n",
      "5.9,3.2,4.8,1.8,versicolor\n",
      "6.1,2.8,4,1.3,versicolor\n",
      "6.3,2.5,4.9,1.5,versicolor\n",
      "6.1,2.8,4.7,1.2,versicolor\n",
      "6.4,2.9,4.3,1.3,versicolor\n",
      "6.6,3,4.4,1.4,versicolor\n",
      "6.8,2.8,4.8,1.4,versicolor\n",
      "6.7,3,5,1.7,versicolor\n",
      "6,2.9,4.5,1.5,versicolor\n",
      "5.7,2.6,3.5,1,versicolor\n",
      "5.5,2.4,3.8,1.1,versicolor\n",
      "5.5,2.4,3.7,1,versicolor\n",
      "5.8,2.7,3.9,1.2,versicolor\n",
      "6,2.7,5.1,1.6,versicolor\n",
      "5.4,3,4.5,1.5,versicolor\n",
      "6,3.4,4.5,1.6,versicolor\n",
      "6.7,3.1,4.7,1.5,versicolor\n",
      "6.3,2.3,4.4,1.3,versicolor\n",
      "5.6,3,4.1,1.3,versicolor\n",
      "5.5,2.5,4,1.3,versicolor\n",
      "5.5,2.6,4.4,1.2,versicolor\n",
      "6.1,3,4.6,1.4,versicolor\n",
      "5.8,2.6,4,1.2,versicolor\n",
      "5,2.3,3.3,1,versicolor\n",
      "5.6,2.7,4.2,1.3,versicolor\n",
      "5.7,3,4.2,1.2,versicolor\n",
      "5.7,2.9,4.2,1.3,versicolor\n",
      "6.2,2.9,4.3,1.3,versicolor\n",
      "5.1,2.5,3,1.1,versicolor\n",
      "5.7,2.8,4.1,1.3,versicolor\n",
      "6.3,3.3,6,2.5,virginica\n",
      "5.8,2.7,5.1,1.9,virginica\n",
      "7.1,3,5.9,2.1,virginica\n",
      "6.3,2.9,5.6,1.8,virginica\n",
      "6.5,3,5.8,2.2,virginica\n",
      "7.6,3,6.6,2.1,virginica\n",
      "4.9,2.5,4.5,1.7,virginica\n",
      "7.3,2.9,6.3,1.8,virginica\n",
      "6.7,2.5,5.8,1.8,virginica\n",
      "7.2,3.6,6.1,2.5,virginica\n",
      "6.5,3.2,5.1,2,virginica\n",
      "6.4,2.7,5.3,1.9,virginica\n",
      "6.8,3,5.5,2.1,virginica\n",
      "5.7,2.5,5,2,virginica\n",
      "5.8,2.8,5.1,2.4,virginica\n",
      "6.4,3.2,5.3,2.3,virginica\n",
      "6.5,3,5.5,1.8,virginica\n",
      "7.7,3.8,6.7,2.2,virginica\n",
      "7.7,2.6,6.9,2.3,virginica\n",
      "6,2.2,5,1.5,virginica\n",
      "6.9,3.2,5.7,2.3,virginica\n",
      "5.6,2.8,4.9,2,virginica\n",
      "7.7,2.8,6.7,2,virginica\n",
      "6.3,2.7,4.9,1.8,virginica\n",
      "6.7,3.3,5.7,2.1,virginica\n",
      "7.2,3.2,6,1.8,virginica\n",
      "6.2,2.8,4.8,1.8,virginica\n",
      "6.1,3,4.9,1.8,virginica\n",
      "6.4,2.8,5.6,2.1,virginica\n",
      "7.2,3,5.8,1.6,virginica\n",
      "7.4,2.8,6.1,1.9,virginica\n",
      "7.9,3.8,6.4,2,virginica\n",
      "6.4,2.8,5.6,2.2,virginica\n",
      "6.3,2.8,5.1,1.5,virginica\n",
      "6.1,2.6,5.6,1.4,virginica\n",
      "7.7,3,6.1,2.3,virginica\n",
      "6.3,3.4,5.6,2.4,virginica\n",
      "6.4,3.1,5.5,1.8,virginica\n",
      "6,3,4.8,1.8,virginica\n",
      "6.9,3.1,5.4,2.1,virginica\n",
      "6.7,3.1,5.6,2.4,virginica\n",
      "6.9,3.1,5.1,2.3,virginica\n",
      "5.8,2.7,5.1,1.9,virginica\n",
      "6.8,3.2,5.9,2.3,virginica\n",
      "6.7,3.3,5.7,2.5,virginica\n",
      "6.7,3,5.2,2.3,virginica\n",
      "6.3,2.5,5,1.9,virginica\n",
      "6.5,3,5.2,2,virginica\n",
      "6.2,3.4,5.4,2.3,virginica\n",
      "5.9,3,5.1,1.8,virginica\n"
     ]
    }
   ],
   "source": [
    "# No Windows use !more iris.csv. Mac ou Linux use !head iris.csv\n",
    "# !head iris.csv\n",
    "!more iris.csv"
   ]
  },
  {
   "cell_type": "code",
   "execution_count": 109,
   "metadata": {},
   "outputs": [
    {
     "name": "stdout",
     "output_type": "stream",
     "text": [
      "[[5.1 3.5 1.4 0.2]\n",
      " [4.9 3.  1.4 0.2]\n",
      " [4.7 3.2 1.3 0.2]\n",
      " [4.6 3.1 1.5 0.2]\n",
      " [5.  3.6 1.4 0.2]\n",
      " [5.4 3.9 1.7 0.4]\n",
      " [4.6 3.4 1.4 0.3]\n",
      " [5.  3.4 1.5 0.2]\n",
      " [4.4 2.9 1.4 0.2]\n",
      " [4.9 3.1 1.5 0.1]\n",
      " [5.4 3.7 1.5 0.2]\n",
      " [4.8 3.4 1.6 0.2]\n",
      " [4.8 3.  1.4 0.1]\n",
      " [4.3 3.  1.1 0.1]\n",
      " [5.8 4.  1.2 0.2]\n",
      " [5.7 4.4 1.5 0.4]\n",
      " [5.4 3.9 1.3 0.4]\n",
      " [5.1 3.5 1.4 0.3]\n",
      " [5.7 3.8 1.7 0.3]\n",
      " [5.1 3.8 1.5 0.3]\n",
      " [5.4 3.4 1.7 0.2]\n",
      " [5.1 3.7 1.5 0.4]\n",
      " [4.6 3.6 1.  0.2]\n",
      " [5.1 3.3 1.7 0.5]\n",
      " [4.8 3.4 1.9 0.2]\n",
      " [5.  3.  1.6 0.2]\n",
      " [5.  3.4 1.6 0.4]\n",
      " [5.2 3.5 1.5 0.2]\n",
      " [5.2 3.4 1.4 0.2]\n",
      " [4.7 3.2 1.6 0.2]\n",
      " [4.8 3.1 1.6 0.2]\n",
      " [5.4 3.4 1.5 0.4]\n",
      " [5.2 4.1 1.5 0.1]\n",
      " [5.5 4.2 1.4 0.2]\n",
      " [4.9 3.1 1.5 0.1]\n",
      " [5.  3.2 1.2 0.2]\n",
      " [5.5 3.5 1.3 0.2]\n",
      " [4.9 3.1 1.5 0.1]\n",
      " [4.4 3.  1.3 0.2]\n",
      " [5.1 3.4 1.5 0.2]\n",
      " [5.  3.5 1.3 0.3]\n",
      " [4.5 2.3 1.3 0.3]\n",
      " [4.4 3.2 1.3 0.2]\n",
      " [5.  3.5 1.6 0.6]\n",
      " [5.1 3.8 1.9 0.4]\n",
      " [4.8 3.  1.4 0.3]\n",
      " [5.1 3.8 1.6 0.2]\n",
      " [4.6 3.2 1.4 0.2]\n",
      " [5.3 3.7 1.5 0.2]\n",
      " [5.  3.3 1.4 0.2]\n",
      " [7.  3.2 4.7 1.4]\n",
      " [6.4 3.2 4.5 1.5]\n",
      " [6.9 3.1 4.9 1.5]\n",
      " [5.5 2.3 4.  1.3]\n",
      " [6.5 2.8 4.6 1.5]\n",
      " [5.7 2.8 4.5 1.3]\n",
      " [6.3 3.3 4.7 1.6]\n",
      " [4.9 2.4 3.3 1. ]\n",
      " [6.6 2.9 4.6 1.3]\n",
      " [5.2 2.7 3.9 1.4]\n",
      " [5.  2.  3.5 1. ]\n",
      " [5.9 3.  4.2 1.5]\n",
      " [6.  2.2 4.  1. ]\n",
      " [6.1 2.9 4.7 1.4]\n",
      " [5.6 2.9 3.6 1.3]\n",
      " [6.7 3.1 4.4 1.4]\n",
      " [5.6 3.  4.5 1.5]\n",
      " [5.8 2.7 4.1 1. ]\n",
      " [6.2 2.2 4.5 1.5]\n",
      " [5.6 2.5 3.9 1.1]\n",
      " [5.9 3.2 4.8 1.8]\n",
      " [6.1 2.8 4.  1.3]\n",
      " [6.3 2.5 4.9 1.5]\n",
      " [6.1 2.8 4.7 1.2]\n",
      " [6.4 2.9 4.3 1.3]\n",
      " [6.6 3.  4.4 1.4]\n",
      " [6.8 2.8 4.8 1.4]\n",
      " [6.7 3.  5.  1.7]\n",
      " [6.  2.9 4.5 1.5]\n",
      " [5.7 2.6 3.5 1. ]\n",
      " [5.5 2.4 3.8 1.1]\n",
      " [5.5 2.4 3.7 1. ]\n",
      " [5.8 2.7 3.9 1.2]\n",
      " [6.  2.7 5.1 1.6]\n",
      " [5.4 3.  4.5 1.5]\n",
      " [6.  3.4 4.5 1.6]\n",
      " [6.7 3.1 4.7 1.5]\n",
      " [6.3 2.3 4.4 1.3]\n",
      " [5.6 3.  4.1 1.3]\n",
      " [5.5 2.5 4.  1.3]\n",
      " [5.5 2.6 4.4 1.2]\n",
      " [6.1 3.  4.6 1.4]\n",
      " [5.8 2.6 4.  1.2]\n",
      " [5.  2.3 3.3 1. ]\n",
      " [5.6 2.7 4.2 1.3]\n",
      " [5.7 3.  4.2 1.2]\n",
      " [5.7 2.9 4.2 1.3]\n",
      " [6.2 2.9 4.3 1.3]\n",
      " [5.1 2.5 3.  1.1]\n",
      " [5.7 2.8 4.1 1.3]\n",
      " [6.3 3.3 6.  2.5]\n",
      " [5.8 2.7 5.1 1.9]\n",
      " [7.1 3.  5.9 2.1]\n",
      " [6.3 2.9 5.6 1.8]\n",
      " [6.5 3.  5.8 2.2]\n",
      " [7.6 3.  6.6 2.1]\n",
      " [4.9 2.5 4.5 1.7]\n",
      " [7.3 2.9 6.3 1.8]\n",
      " [6.7 2.5 5.8 1.8]\n",
      " [7.2 3.6 6.1 2.5]\n",
      " [6.5 3.2 5.1 2. ]\n",
      " [6.4 2.7 5.3 1.9]\n",
      " [6.8 3.  5.5 2.1]\n",
      " [5.7 2.5 5.  2. ]\n",
      " [5.8 2.8 5.1 2.4]\n",
      " [6.4 3.2 5.3 2.3]\n",
      " [6.5 3.  5.5 1.8]\n",
      " [7.7 3.8 6.7 2.2]\n",
      " [7.7 2.6 6.9 2.3]\n",
      " [6.  2.2 5.  1.5]\n",
      " [6.9 3.2 5.7 2.3]\n",
      " [5.6 2.8 4.9 2. ]\n",
      " [7.7 2.8 6.7 2. ]\n",
      " [6.3 2.7 4.9 1.8]\n",
      " [6.7 3.3 5.7 2.1]\n",
      " [7.2 3.2 6.  1.8]\n",
      " [6.2 2.8 4.8 1.8]\n",
      " [6.1 3.  4.9 1.8]\n",
      " [6.4 2.8 5.6 2.1]\n",
      " [7.2 3.  5.8 1.6]\n",
      " [7.4 2.8 6.1 1.9]\n",
      " [7.9 3.8 6.4 2. ]\n",
      " [6.4 2.8 5.6 2.2]\n",
      " [6.3 2.8 5.1 1.5]\n",
      " [6.1 2.6 5.6 1.4]\n",
      " [7.7 3.  6.1 2.3]\n",
      " [6.3 3.4 5.6 2.4]\n",
      " [6.4 3.1 5.5 1.8]\n",
      " [6.  3.  4.8 1.8]\n",
      " [6.9 3.1 5.4 2.1]\n",
      " [6.7 3.1 5.6 2.4]\n",
      " [6.9 3.1 5.1 2.3]\n",
      " [5.8 2.7 5.1 1.9]\n",
      " [6.8 3.2 5.9 2.3]\n",
      " [6.7 3.3 5.7 2.5]\n",
      " [6.7 3.  5.2 2.3]\n",
      " [6.3 2.5 5.  1.9]\n",
      " [6.5 3.  5.2 2. ]\n",
      " [6.2 3.4 5.4 2.3]\n",
      " [5.9 3.  5.1 1.8]]\n"
     ]
    }
   ],
   "source": [
    "# Carregando um dataset para dentro de um array\n",
    "#load txt funcionando para csv\n",
    "#Criação de uma lsita a partir de um dataset\n",
    "arquivo = np.loadtxt(filename, delimiter=',', usecols=(0,1,2,3), skiprows=1)\n",
    "print (arquivo)"
   ]
  },
  {
   "cell_type": "code",
   "execution_count": 110,
   "metadata": {},
   "outputs": [
    {
     "data": {
      "text/plain": [
       "numpy.ndarray"
      ]
     },
     "execution_count": 110,
     "metadata": {},
     "output_type": "execute_result"
    }
   ],
   "source": [
    "type(arquivo)"
   ]
  },
  {
   "cell_type": "code",
   "execution_count": 115,
   "metadata": {},
   "outputs": [
    {
     "data": {
      "image/png": "[encoded data removed]",
      "text/plain": [
       "<Figure size 432x288 with 1 Axes>"
      ]
     },
     "metadata": {
      "needs_background": "light"
     },
     "output_type": "display_data"
    }
   ],
   "source": [
    "# Gerando um plot a partir de um arquivo usando o NumPy\n",
    "var1, var2 = np.loadtxt(filename, delimiter=',', usecols=(0,1), skiprows=1, unpack=True)\n",
    "plt.show(plt.plot(var1,var2,'x', markersize = 15,alpha = 0.75))"
   ]
  },
  {
   "cell_type": "markdown",
   "metadata": {},
   "source": [
    "## Estatística"
   ]
  },
  {
   "cell_type": "code",
   "execution_count": 116,
   "metadata": {},
   "outputs": [],
   "source": [
    "# Criando um array\n",
    "A = np.array([15, 23, 63, 94, 75])"
   ]
  },
  {
   "cell_type": "code",
   "execution_count": 118,
   "metadata": {},
   "outputs": [
    {
     "data": {
      "text/plain": [
       "54.0"
      ]
     },
     "execution_count": 118,
     "metadata": {},
     "output_type": "execute_result"
    }
   ],
   "source": [
    "# Em estatística a média é o valor que aponta para onde mais se concentram os dados de uma distribuição.\n",
    "np.mean(A)"
   ]
  },
  {
   "cell_type": "code",
   "execution_count": 119,
   "metadata": {},
   "outputs": [
    {
     "data": {
      "text/plain": [
       "63.0"
      ]
     },
     "execution_count": 119,
     "metadata": {},
     "output_type": "execute_result"
    }
   ],
   "source": [
    "np.median(A)"
   ]
  },
  {
   "cell_type": "code",
   "execution_count": 121,
   "metadata": {},
   "outputs": [
    {
     "data": {
      "text/plain": [
       "30.34468652004828"
      ]
     },
     "execution_count": 121,
     "metadata": {},
     "output_type": "execute_result"
    }
   ],
   "source": [
    "# O desvio padrão mostra o quanto de variação ou \"dispersão\" existe em \n",
    "# relação à média (ou valor esperado). \n",
    "# Um baixo desvio padrão indica que os dados tendem a estar próximos da média.\n",
    "# Um desvio padrão alto indica que os dados estão espalhados por uma gama de valores.\n",
    "np.std(A)"
   ]
  },
  {
   "cell_type": "code",
   "execution_count": 122,
   "metadata": {},
   "outputs": [
    {
     "data": {
      "text/plain": [
       "920.8"
      ]
     },
     "execution_count": 122,
     "metadata": {},
     "output_type": "execute_result"
    }
   ],
   "source": [
    "# Variância de uma variável aleatória é uma medida da sua dispersão \n",
    "# estatística, indicando \"o quão longe\" em geral os seus valores se \n",
    "# encontram do valor esperado\n",
    "np.var(A)"
   ]
  },
  {
   "cell_type": "code",
   "execution_count": 136,
   "metadata": {},
   "outputs": [],
   "source": [
    "d = np.arange(1, 10, 2)"
   ]
  },
  {
   "cell_type": "code",
   "execution_count": 137,
   "metadata": {},
   "outputs": [
    {
     "data": {
      "text/plain": [
       "array([1, 3, 5, 7, 9])"
      ]
     },
     "execution_count": 137,
     "metadata": {},
     "output_type": "execute_result"
    }
   ],
   "source": [
    "d"
   ]
  },
  {
   "cell_type": "code",
   "execution_count": 138,
   "metadata": {},
   "outputs": [],
   "source": [
    "d2 = np.linspace(1,9,5)"
   ]
  },
  {
   "cell_type": "code",
   "execution_count": 139,
   "metadata": {},
   "outputs": [
    {
     "data": {
      "text/plain": [
       "array([1., 3., 5., 7., 9.])"
      ]
     },
     "execution_count": 139,
     "metadata": {},
     "output_type": "execute_result"
    }
   ],
   "source": [
    "d2"
   ]
  },
  {
   "cell_type": "code",
   "execution_count": 140,
   "metadata": {},
   "outputs": [
    {
     "data": {
      "text/plain": [
       "25"
      ]
     },
     "execution_count": 140,
     "metadata": {},
     "output_type": "execute_result"
    }
   ],
   "source": [
    "np.sum(d)"
   ]
  },
  {
   "cell_type": "code",
   "execution_count": 141,
   "metadata": {},
   "outputs": [
    {
     "data": {
      "text/plain": [
       "945"
      ]
     },
     "execution_count": 141,
     "metadata": {},
     "output_type": "execute_result"
    }
   ],
   "source": [
    "# Retorna o produto dos elementos\n",
    "np.prod(d)"
   ]
  },
  {
   "cell_type": "code",
   "execution_count": null,
   "metadata": {},
   "outputs": [],
   "source": [
    "# Soma acumulada dos elementos\n",
    "np.cumsum(d)"
   ]
  },
  {
   "cell_type": "code",
   "execution_count": 143,
   "metadata": {},
   "outputs": [
    {
     "name": "stdout",
     "output_type": "stream",
     "text": [
      "[[-1.70088386e+00 -2.11491284e-01]\n",
      " [-6.48210522e-01  2.57125640e+00]\n",
      " [-5.85898545e-02  1.36664421e+00]\n",
      " [ 2.11086256e-01  1.78260263e+00]\n",
      " [ 1.64858859e+00 -2.75225323e-01]\n",
      " [-1.10188415e-01  1.76916132e-01]\n",
      " [-8.95365695e-01  6.38522664e-01]\n",
      " [ 1.12565657e+00  8.22129806e-01]\n",
      " [ 1.77199057e+00 -1.70109480e+00]\n",
      " [-9.48462983e-01  1.22582878e+00]\n",
      " [-5.23702512e-01 -8.92917467e-01]\n",
      " [-1.90637153e+00 -2.31695517e-01]\n",
      " [-1.89882894e-01 -3.53507501e-01]\n",
      " [-1.54556664e+00  1.51619236e+00]\n",
      " [-3.47547303e-01  4.67749838e-02]\n",
      " [ 7.65975963e-01  1.21082382e+00]\n",
      " [ 1.31381118e+00 -6.91156578e-01]\n",
      " [-1.15241961e+00  7.90434322e-01]\n",
      " [ 1.34612053e-01 -1.15666483e-01]\n",
      " [ 1.24368383e-01 -3.03752377e-01]\n",
      " [-1.03822548e+00  5.62219834e-01]\n",
      " [ 3.50468200e-02  1.13743602e+00]\n",
      " [ 7.98532985e-02 -1.05252956e+00]\n",
      " [ 1.84303360e+00 -7.79120164e-01]\n",
      " [ 1.24945773e+00 -5.03216658e-01]\n",
      " [ 8.48021450e-01  4.10542181e-01]\n",
      " [ 2.41004249e-01 -3.27925072e-01]\n",
      " [-2.59194738e-01 -9.34475263e-01]\n",
      " [ 1.67871778e+00  6.98531575e-02]\n",
      " [-1.10291160e+00  1.20037469e-01]\n",
      " [-4.68939578e-02 -6.99284471e-02]\n",
      " [-6.25308142e-01  1.71428017e+00]\n",
      " [ 1.02816332e+00 -9.55903359e-01]\n",
      " [ 1.02743273e-01  5.21752740e-01]\n",
      " [ 5.23181056e-01 -8.59746275e-01]\n",
      " [ 1.18008822e+00  1.41397103e-01]\n",
      " [-1.24220016e-02 -1.07837332e+00]\n",
      " [ 5.62756183e-01  5.35596980e-01]\n",
      " [ 9.23913424e-01  4.88708337e-01]\n",
      " [-3.04527956e-01 -9.50708702e-01]\n",
      " [-2.08597605e+00 -4.58700755e-01]\n",
      " [-4.66292081e-01 -3.03633753e-01]\n",
      " [ 4.48961682e-01  2.00648334e+00]\n",
      " [ 2.33204596e-01  3.97886362e-01]\n",
      " [ 9.52052890e-01  3.55919688e-01]\n",
      " [ 1.82172691e+00  1.72871895e+00]\n",
      " [-2.40226105e-01  2.19810786e-02]\n",
      " [ 1.50185914e+00  1.36561682e-02]\n",
      " [-1.28642592e+00  2.93483813e-01]\n",
      " [-2.63861397e+00 -9.23357045e-01]\n",
      " [ 1.67985825e+00  7.23701568e-01]\n",
      " [ 7.11449150e-01 -7.64403118e-01]\n",
      " [-3.74091261e-01  2.54223092e-01]\n",
      " [-1.67326184e+00  2.27621712e-01]\n",
      " [ 3.82476213e-01 -3.68441946e-01]\n",
      " [-6.44741353e-01  1.14672309e+00]\n",
      " [-9.58373322e-01  7.69547819e-01]\n",
      " [ 3.07980530e-02  1.52885287e+00]\n",
      " [-8.49769886e-01 -1.05296252e+00]\n",
      " [ 1.09626699e+00  1.38782431e+00]\n",
      " [ 1.11076199e+00  2.53685805e-01]\n",
      " [-3.46919060e-01 -8.06701205e-01]\n",
      " [ 2.06233998e-01 -2.24732140e+00]\n",
      " [ 6.25630677e-01 -6.58140828e-01]\n",
      " [ 1.18826006e+00 -5.16241684e-01]\n",
      " [ 8.35156288e-01  3.51848795e-01]\n",
      " [-1.98140694e-01 -1.00412270e+00]\n",
      " [ 1.49425427e+00 -4.12328666e-01]\n",
      " [-5.98361907e-01  8.85045928e-01]\n",
      " [-5.40824822e-01 -1.32011752e+00]\n",
      " [ 1.27919008e-01  3.11137403e-01]\n",
      " [ 9.47382015e-01  1.17591535e-01]\n",
      " [ 5.75451631e-01  1.71321871e+00]\n",
      " [ 5.19619843e-01 -3.29493819e+00]\n",
      " [-3.38564940e-02 -6.29336286e-01]\n",
      " [ 1.02265878e+00 -1.43540418e+00]\n",
      " [ 1.02490612e+00  8.50097715e-01]\n",
      " [ 9.11812755e-01 -7.62562154e-01]\n",
      " [-2.41854260e+00 -7.98405413e-01]\n",
      " [ 8.78682915e-01 -9.79570846e-01]\n",
      " [-4.51046815e-01  5.59698190e-01]\n",
      " [-1.25652566e-01 -4.22837895e-02]\n",
      " [-5.62544790e-01 -1.30030294e+00]\n",
      " [ 1.95397242e-01 -9.64604809e-01]\n",
      " [-3.64763003e-01 -2.43619143e-01]\n",
      " [-1.10491535e+00 -4.79397438e-01]\n",
      " [ 4.28778609e-01 -8.55029280e-01]\n",
      " [-7.22094226e-01 -9.35193303e-01]\n",
      " [ 1.19284689e+00  3.49736228e-01]\n",
      " [-8.40012268e-01 -1.18464399e+00]\n",
      " [ 2.65281099e-03  4.80429282e-01]\n",
      " [ 3.83518763e-01  9.68560381e-01]\n",
      " [-2.40568045e-01  8.60172833e-01]\n",
      " [-2.10947732e+00  2.80836156e-01]\n",
      " [ 6.89164812e-01 -6.07914458e-01]\n",
      " [ 4.58337212e-01 -7.22243096e-01]\n",
      " [-4.27634456e-02 -1.11661571e+00]\n",
      " [-1.74005053e-01 -3.64414038e-01]\n",
      " [ 1.63837644e+00 -6.17372958e-01]\n",
      " [-9.08881693e-01  1.03259513e+00]\n",
      " [ 4.59203511e-01 -1.99604602e-01]\n",
      " [-1.30673653e+00  8.74656401e-01]\n",
      " [ 1.18378228e+00 -1.59010391e-01]\n",
      " [ 4.92330942e-01  5.90480707e-01]\n",
      " [ 5.44074949e-01 -1.83132794e+00]\n",
      " [-2.48954250e-01 -1.61681128e+00]\n",
      " [-2.33154599e+00 -1.45946796e+00]\n",
      " [ 6.01743872e-01 -3.08857411e-01]\n",
      " [ 1.25238090e+00  1.57917220e+00]\n",
      " [ 5.92756617e-01 -1.39291215e+00]\n",
      " [-5.98733280e-02  6.66401403e-01]\n",
      " [ 2.50707460e+00  2.29774143e+00]\n",
      " [ 5.15256992e-01 -1.06476988e+00]\n",
      " [ 1.29167688e+00  5.70750007e-01]\n",
      " [ 1.09669209e+00 -2.76218991e-01]\n",
      " [ 1.13111458e+00  9.11371258e-01]\n",
      " [-1.06320128e+00 -1.11868027e+00]\n",
      " [-4.05007468e-01  6.69006574e-01]\n",
      " [ 5.42815527e-01  1.41787638e+00]\n",
      " [-3.03300713e-01  8.55122403e-01]\n",
      " [ 2.34697521e+00 -9.77418581e-01]\n",
      " [ 1.56135006e+00 -6.30063918e-01]\n",
      " [-5.53428484e-01 -1.22249698e-01]\n",
      " [-1.94420440e-01  3.80570005e-01]\n",
      " [-6.32092407e-01  1.37639780e+00]\n",
      " [ 1.18738949e+00 -1.66946236e+00]\n",
      " [ 2.84542042e-01 -2.03065834e+00]\n",
      " [ 1.07906095e+00 -2.12774403e+00]\n",
      " [ 2.08540430e+00  5.14930863e-01]\n",
      " [ 2.13053670e+00  2.65628154e-01]\n",
      " [-8.75063262e-01  4.68072931e-02]\n",
      " [ 4.00073802e-01 -9.09781886e-01]\n",
      " [ 2.14669600e+00 -1.44191140e-01]\n",
      " [ 7.62553700e-01  6.90567301e-01]\n",
      " [ 7.49735340e-01  4.77699613e-01]\n",
      " [-1.03691904e+00 -1.91441726e+00]\n",
      " [-6.82892998e-01  1.04374948e+00]\n",
      " [-5.11135144e-01 -3.25462135e-01]\n",
      " [ 8.18948393e-01 -1.67680438e-01]\n",
      " [-8.47456951e-01 -1.11378408e+00]\n",
      " [ 1.05484321e+00 -1.12702288e+00]\n",
      " [ 2.80707455e-01 -9.32144655e-01]\n",
      " [ 1.08739672e+00  2.45151365e-01]\n",
      " [ 6.58058442e-01  5.47140466e-01]\n",
      " [-5.79270375e-01  1.10861640e+00]\n",
      " [-4.30610391e-01 -2.67004344e-03]\n",
      " [ 1.10281635e+00 -1.45318226e+00]\n",
      " [-1.97161613e+00  6.94091802e-01]\n",
      " [ 1.80593709e+00  1.62825189e-01]\n",
      " [ 5.08459639e-01  4.74722954e-01]\n",
      " [-3.78618739e-01  1.02203647e+00]\n",
      " [-2.76083733e-01  3.25162222e+00]\n",
      " [-8.64741596e-01 -1.45332057e-01]\n",
      " [-6.14372106e-01  2.52954649e-01]\n",
      " [ 3.41119634e-01  3.45513182e-01]\n",
      " [-1.86815075e-01 -9.13295852e-01]\n",
      " [-1.02034142e+00 -1.56777586e-01]\n",
      " [-2.39829378e-01 -1.76499744e-01]\n",
      " [-5.11445045e-01  1.06741813e+00]\n",
      " [ 3.00359218e-01  2.00433693e+00]\n",
      " [ 6.12058473e-01 -1.07121614e+00]\n",
      " [ 1.43802782e+00  8.06152684e-01]\n",
      " [-7.85852361e-01 -6.08154324e-01]\n",
      " [ 5.28054253e-01  3.98435489e-01]\n",
      " [ 9.79430979e-01 -1.71589667e-01]\n",
      " [ 1.28020797e+00 -1.58438346e+00]\n",
      " [-1.29868743e+00 -1.57052523e+00]\n",
      " [ 2.33769324e-01  7.69025657e-02]\n",
      " [-2.98962768e-01  8.89052497e-01]\n",
      " [-3.10676353e-02  6.39404152e-01]\n",
      " [ 2.87602776e-01  1.30168488e+00]\n",
      " [ 2.26076663e+00 -1.57372204e+00]\n",
      " [-5.70563742e-01  4.69426553e-01]\n",
      " [ 1.60164610e+00 -3.94732923e-01]\n",
      " [-6.33301136e-01 -8.28971076e-01]\n",
      " [-3.45091759e-02  1.53472944e+00]\n",
      " [-1.24261508e+00  1.31740299e+00]\n",
      " [ 1.23977162e-01  5.07054854e-01]\n",
      " [-2.47951967e-01 -8.38141146e-01]\n",
      " [ 4.55167700e-02 -1.23622832e+00]\n",
      " [ 1.24042116e-02  6.36801595e-01]\n",
      " [ 7.96823927e-01  3.79428623e-01]\n",
      " [-1.13730756e+00 -1.84998678e-02]\n",
      " [-9.42395600e-01  9.79140087e-02]\n",
      " [ 1.13391341e+00 -2.35308229e-01]\n",
      " [ 5.94255462e-01  5.82888245e-01]\n",
      " [-7.49074335e-01 -6.08491413e-01]\n",
      " [ 8.37507752e-01 -7.91723870e-01]\n",
      " [-1.28261304e+00 -1.46929139e+00]\n",
      " [-1.26080990e+00 -7.85144085e-01]\n",
      " [ 9.16360134e-01 -1.91437463e+00]\n",
      " [ 6.40544158e-01 -1.33335946e+00]\n",
      " [ 1.13924269e-01  2.75008262e+00]\n",
      " [-7.66187394e-01  2.99677602e-01]\n",
      " [ 4.01863467e-01  3.99987445e-01]\n",
      " [ 3.84018129e-01 -7.93773339e-01]\n",
      " [-3.96907820e-01  1.91048113e-01]\n",
      " [ 4.44060088e-01 -1.22410034e-01]\n",
      " [ 5.71044946e-01  2.12528517e-01]\n",
      " [ 2.72107345e-01  1.15278967e+00]\n",
      " [ 8.71537354e-01  8.76777223e-01]\n",
      " [ 8.60751256e-01 -2.22416641e-01]\n",
      " [ 1.11820773e+00  4.63092781e-01]\n",
      " [-4.72051865e-01  6.74759189e-01]\n",
      " [-5.57294631e-01  3.78886993e-01]\n",
      " [-5.48034096e-02  7.35761159e-01]\n",
      " [ 6.09606349e-01 -4.60173393e-02]\n",
      " [ 7.86321937e-01  2.37335361e-01]\n",
      " [-9.61596102e-01  2.35579641e-01]\n",
      " [-3.51322054e-01 -3.50367499e-01]\n",
      " [ 1.75995280e-01 -1.01560534e+00]\n",
      " [-2.39385038e+00  1.12142204e+00]\n",
      " [ 6.38780320e-02 -1.63572242e+00]\n",
      " [-3.29038135e+00  4.91824578e-04]\n",
      " [ 5.44954029e-01 -6.28633434e-01]\n",
      " [-2.61141020e-01  5.89301010e-01]\n",
      " [-1.15164142e+00  5.68826217e-02]\n",
      " [-7.59972877e-01  2.67364752e-02]\n",
      " [-1.50666057e+00  2.80657112e-01]\n",
      " [-4.07260526e-01  1.40751449e+00]\n",
      " [ 1.44579539e-01  1.53395808e-01]\n",
      " [ 1.19587121e+00 -7.97840002e-02]\n",
      " [-2.43215885e-01  1.16364326e+00]\n",
      " [ 6.78322959e-01 -1.22336547e+00]\n",
      " [ 2.98873920e+00 -8.30351295e-01]\n",
      " [-7.90674955e-01 -1.92388764e+00]\n",
      " [ 1.03863741e+00 -6.30365400e-02]\n",
      " [-6.67435682e-01 -1.47079824e+00]\n",
      " [ 1.27523868e+00 -7.07108046e-02]\n",
      " [ 1.06395000e+00 -1.37716429e+00]\n",
      " [ 8.63730406e-01 -1.33829675e+00]\n",
      " [ 8.61366986e-01 -1.26810257e-01]\n",
      " [ 7.04723435e-01  4.07053432e-01]\n",
      " [ 8.34966906e-01 -6.72436610e-01]\n",
      " [-1.84662086e-01 -6.98864809e-01]\n",
      " [ 2.04408767e+00 -3.18532738e-01]\n",
      " [-6.30380227e-01 -6.14436919e-02]\n",
      " [-1.21253138e+00 -1.87729952e-01]\n",
      " [-5.67228450e-01 -4.82719658e-02]\n",
      " [-1.12031312e+00 -8.00025479e-01]\n",
      " [-1.36096565e+00  1.25217247e+00]\n",
      " [ 9.85671220e-01 -9.06419622e-01]\n",
      " [-1.43762617e+00 -4.94559415e-01]\n",
      " [-1.60809481e+00  5.45929018e-01]\n",
      " [ 1.17431099e+00  1.97349541e-02]\n",
      " [-2.47137798e-01  1.53358462e-02]\n",
      " [-6.81140207e-01 -2.32985940e+00]\n",
      " [ 7.69179143e-01 -1.70737931e+00]\n",
      " [ 3.31038753e-01  1.54182461e+00]\n",
      " [-1.84808327e+00 -1.08629932e-02]\n",
      " [-2.61755959e+00  6.51921889e-01]\n",
      " [ 4.09507023e-02 -6.00477331e-01]\n",
      " [ 6.13399953e-01  1.67262211e+00]\n",
      " [-1.05467080e+00 -4.60359854e-01]\n",
      " [ 1.50044796e+00 -8.13736177e-01]\n",
      " [-3.40680138e-01 -1.52808256e+00]\n",
      " [ 8.46322515e-01 -5.44919531e-02]\n",
      " [ 1.68074495e+00 -1.28437208e+00]\n",
      " [-1.00405444e+00 -1.51229125e+00]\n",
      " [-8.49416133e-02 -8.27610292e-01]\n",
      " [ 4.42716323e-01 -8.35023521e-01]\n",
      " [ 1.00730630e+00 -1.07540745e+00]\n",
      " [ 6.67818117e-01  1.75544788e-01]\n",
      " [-4.18843906e-01 -5.69722051e-01]\n",
      " [ 1.12466024e-02  2.96312255e-01]\n",
      " [-1.37246659e+00 -4.78611406e-01]\n",
      " [ 1.46574348e-01  1.23829783e+00]\n",
      " [-1.53488839e+00 -6.73184896e-01]\n",
      " [ 8.41357703e-02 -6.14041731e-01]\n",
      " [ 1.20988947e+00  5.95041689e-01]\n",
      " [-6.99131065e-01  1.46723296e+00]\n",
      " [-8.31314907e-01 -7.36399258e-02]\n",
      " [-2.71456380e+00 -1.55204999e+00]\n",
      " [ 1.64083022e+00  1.26015186e+00]\n",
      " [-7.56386794e-01  5.91481033e-01]\n",
      " [-7.02460423e-01 -4.96188568e-01]\n",
      " [ 3.33406749e-01 -3.95053530e-01]\n",
      " [-1.66715823e+00  1.19326794e+00]\n",
      " [-3.82170216e-01  3.96664023e-01]\n",
      " [ 5.56232584e-01  7.39685864e-01]\n",
      " [-6.36106900e-01 -3.76378859e-02]\n",
      " [-1.64645460e-01 -1.68168497e+00]\n",
      " [ 1.89549303e+00  1.50040762e+00]\n",
      " [-4.75574282e-01  2.51166244e-01]\n",
      " [ 3.90174531e-01 -4.51581143e-01]\n",
      " [-9.26169763e-01  8.49778719e-01]\n",
      " [-2.29429801e-01  1.46014452e+00]\n",
      " [-3.23331325e-01  8.73870871e-01]\n",
      " [ 1.15371495e+00  2.41479467e+00]\n",
      " [ 1.53868963e-01  1.82452386e-01]\n",
      " [-7.26462000e-01 -8.50750520e-02]\n",
      " [ 4.75545319e-01 -2.79904157e-01]\n",
      " [-2.68109157e-01 -1.86504840e+00]\n",
      " [-6.37107889e-01 -9.98271624e-01]\n",
      " [-1.41078206e+00  6.33172902e-02]\n",
      " [ 1.88412835e+00  1.40745854e-01]\n",
      " [-1.88655169e+00 -6.21217580e-01]\n",
      " [ 1.39900977e+00 -4.21310667e-01]\n",
      " [ 1.75846531e+00 -1.94591400e-01]\n",
      " [ 2.04335488e+00 -1.39356366e+00]\n",
      " [-3.69297610e-01  7.51766340e-01]\n",
      " [-5.98980765e-01  8.90123556e-01]\n",
      " [-2.38312553e+00  2.63568832e-01]\n",
      " [ 5.18136948e-02 -1.08147463e+00]\n",
      " [-8.70363779e-01  3.85142872e-01]\n",
      " [ 1.09111104e+00 -2.49391748e-01]\n",
      " [-9.78026400e-01  5.52754546e-01]\n",
      " [-1.59988499e-01  2.41446106e+00]\n",
      " [ 1.33509669e+00 -2.97095753e-01]\n",
      " [ 7.82856843e-01  1.82623351e+00]\n",
      " [-7.54605166e-01 -6.03216663e-01]\n",
      " [ 4.31318400e-01 -7.91660070e-01]\n",
      " [-1.01347587e+00  5.56460972e-01]\n",
      " [ 6.34574115e-01 -4.02409319e-01]\n",
      " [ 1.35580337e+00  1.51673954e+00]\n",
      " [ 5.54498541e-01  6.07460678e-01]\n",
      " [ 1.22501989e+00 -5.64959446e-01]\n",
      " [-1.18706122e+00  5.53302494e-01]\n",
      " [ 1.77687771e+00  2.74317841e-01]\n",
      " [ 4.67233628e-01 -1.01424685e+00]\n",
      " [-1.79240610e+00 -4.93420268e-01]\n",
      " [-8.55726743e-01 -5.58335617e-01]\n",
      " [-6.20801246e-01  1.72859315e+00]\n",
      " [ 9.89612749e-01 -7.76491266e-02]\n",
      " [ 3.30530842e-01 -2.49868073e-01]\n",
      " [ 1.93160108e-01 -7.69249946e-01]\n",
      " [ 1.84756147e+00  6.12381097e-01]\n",
      " [ 7.13390476e-01 -6.56326885e-01]\n",
      " [ 4.07483243e-01  1.50675734e+00]\n",
      " [ 1.17352837e-01  5.17104510e-01]\n",
      " [-2.31625601e-01 -6.35719526e-01]\n",
      " [ 1.00354059e-01  8.03412480e-01]\n",
      " [-5.39523437e-01  1.94742461e-01]\n",
      " [-1.74813522e-02 -4.82378209e-01]\n",
      " [ 1.58167825e+00 -1.72355338e-01]\n",
      " [ 1.44920966e+00 -5.70944403e-01]\n",
      " [-1.02248771e+00  7.13430176e-01]\n",
      " [ 4.78010067e-01 -2.61416285e-01]\n",
      " [ 1.24023319e+00  3.00774475e-01]\n",
      " [-7.94843612e-01 -1.11532534e+00]\n",
      " [ 1.91550502e+00 -7.15697731e-02]\n",
      " [ 1.29683315e+00 -1.74589306e+00]\n",
      " [ 5.62973451e-01  6.12492511e-01]\n",
      " [-1.10259239e-01 -1.21095662e+00]\n",
      " [-9.77579670e-01 -9.24143502e-01]\n",
      " [-1.72392053e-01 -4.83495584e-01]\n",
      " [-9.53656384e-01 -9.74116874e-01]\n",
      " [-1.79340923e+00  1.19343296e+00]\n",
      " [ 4.32161735e-01 -4.62713385e-01]\n",
      " [ 5.97744383e-01 -3.72723427e-01]\n",
      " [-2.23498309e-01  1.58818529e-01]\n",
      " [ 6.48846086e-01  3.46815805e-01]\n",
      " [-4.03049580e-01  1.26054406e+00]\n",
      " [ 3.13675394e-01  1.61285232e+00]\n",
      " [-6.29536828e-01 -1.38445656e+00]\n",
      " [-1.33139160e+00 -1.22172756e+00]\n",
      " [-1.19899025e+00 -1.00376406e-01]\n",
      " [-7.18806178e-01 -1.27598707e+00]\n",
      " [ 5.67846625e-01 -1.41409260e+00]\n",
      " [-1.57846383e-01  1.34803902e-03]\n",
      " [-1.55297998e-01  3.16300040e-01]\n",
      " [-1.88232154e+00  3.48282177e-01]\n",
      " [-5.05753448e-01 -1.11611497e+00]\n",
      " [ 7.11495324e-01 -1.55629620e+00]\n",
      " [ 5.09860121e-01  5.10031214e-01]\n",
      " [-1.89283481e-01  7.07930158e-01]\n",
      " [-1.00761850e+00 -9.01578070e-01]\n",
      " [ 3.09081958e-01 -5.12569746e-02]\n",
      " [-1.14033549e+00  3.74713746e-01]\n",
      " [-1.20837603e+00 -7.36491599e-02]\n",
      " [ 1.94746966e+00  5.88585695e-01]\n",
      " [-1.06666164e+00  4.19030852e-01]\n",
      " [-1.74070867e+00 -1.55094254e-02]\n",
      " [ 4.48617538e-01 -7.94443402e-01]\n",
      " [ 4.33932085e-01 -1.26616177e-01]\n",
      " [-6.06407644e-01 -5.97279641e-01]\n",
      " [-3.16284912e-01 -5.14798057e-01]\n",
      " [ 1.13295696e+00 -1.43766667e+00]\n",
      " [ 1.26779483e+00  4.62358115e-01]\n",
      " [-6.67126417e-01 -6.26272763e-01]\n",
      " [ 1.27658815e+00  8.45932904e-02]\n",
      " [-2.40443039e+00 -1.28326617e+00]\n",
      " [-1.01631174e-02 -5.73904863e-01]\n",
      " [-1.61235042e+00 -5.78773872e-01]\n",
      " [-4.25381610e-01  2.33960988e-01]\n",
      " [-2.53201685e-01 -3.87509416e-01]\n",
      " [-1.43563638e-01 -7.29378659e-01]\n",
      " [ 3.53044135e-01  5.80348132e-01]\n",
      " [-1.11594281e+00  9.95572364e-01]\n",
      " [ 4.89881111e-01  1.42831805e+00]\n",
      " [ 1.93181261e+00 -2.33750469e+00]\n",
      " [ 1.02776713e+00  1.13154259e-01]\n",
      " [ 5.13480515e-01  1.96327653e+00]\n",
      " [ 1.81960020e-01 -8.10694613e-02]\n",
      " [-1.98510138e-01  1.34169168e+00]\n",
      " [ 1.33570089e+00  8.85475964e-01]\n",
      " [ 1.20105822e+00  1.57376245e+00]\n",
      " [ 7.50821412e-01 -1.35889588e-01]\n",
      " [-6.69702845e-01  9.07295169e-01]\n",
      " [-1.82961121e-01  5.23485575e-01]]\n",
      "[ 0.06034842 -0.04628798] (2,)\n"
     ]
    }
   ],
   "source": [
    "    a = np.random.randn(400,2)\n",
    "    print(a)\n",
    "    m = a.mean(0)\n",
    "    print (m, m.shape)"
   ]
  },
  {
   "cell_type": "code",
   "execution_count": 144,
   "metadata": {},
   "outputs": [
    {
     "data": {
      "image/png": "[encoded data removed]",
      "text/plain": [
       "<Figure size 432x288 with 1 Axes>"
      ]
     },
     "metadata": {
      "needs_background": "light"
     },
     "output_type": "display_data"
    }
   ],
   "source": [
    "plt.plot(a[:,0], a[:,1], 'o', markersize=5, alpha=0.50)\n",
    "plt.plot(m[0], m[1], 'ro', markersize=10)\n",
    "plt.show()"
   ]
  },
  {
   "cell_type": "markdown",
   "metadata": {},
   "source": [
    "## Outras Operações com Arrays"
   ]
  },
  {
   "cell_type": "code",
   "execution_count": 145,
   "metadata": {},
   "outputs": [],
   "source": [
    "# Slicing\n",
    "a = np.diag(np.arange(3))"
   ]
  },
  {
   "cell_type": "code",
   "execution_count": 146,
   "metadata": {},
   "outputs": [
    {
     "data": {
      "text/plain": [
       "array([[0, 0, 0],\n",
       "       [0, 1, 0],\n",
       "       [0, 0, 2]])"
      ]
     },
     "execution_count": 146,
     "metadata": {},
     "output_type": "execute_result"
    }
   ],
   "source": [
    "a"
   ]
  },
  {
   "cell_type": "code",
   "execution_count": 149,
   "metadata": {},
   "outputs": [
    {
     "data": {
      "text/plain": [
       "0"
      ]
     },
     "execution_count": 149,
     "metadata": {},
     "output_type": "execute_result"
    }
   ],
   "source": [
    "a[0, 0]"
   ]
  },
  {
   "cell_type": "code",
   "execution_count": 150,
   "metadata": {},
   "outputs": [
    {
     "data": {
      "text/plain": [
       "array([0, 0, 0])"
      ]
     },
     "execution_count": 150,
     "metadata": {},
     "output_type": "execute_result"
    }
   ],
   "source": [
    "a[0]"
   ]
  },
  {
   "cell_type": "code",
   "execution_count": 151,
   "metadata": {},
   "outputs": [],
   "source": [
    "b = np.arange(10)"
   ]
  },
  {
   "cell_type": "code",
   "execution_count": 152,
   "metadata": {},
   "outputs": [
    {
     "data": {
      "text/plain": [
       "array([0, 1, 2, 3, 4, 5, 6, 7, 8, 9])"
      ]
     },
     "execution_count": 152,
     "metadata": {},
     "output_type": "execute_result"
    }
   ],
   "source": [
    "b"
   ]
  },
  {
   "cell_type": "code",
   "execution_count": 156,
   "metadata": {},
   "outputs": [
    {
     "data": {
      "text/plain": [
       "array([3, 4, 5, 6, 7])"
      ]
     },
     "execution_count": 156,
     "metadata": {},
     "output_type": "execute_result"
    }
   ],
   "source": [
    "# [start:end:step]\n",
    "\n",
    "b[3:8:1]"
   ]
  },
  {
   "cell_type": "code",
   "execution_count": 157,
   "metadata": {},
   "outputs": [
    {
     "data": {
      "text/plain": [
       "array([False,  True, False,  True])"
      ]
     },
     "execution_count": 157,
     "metadata": {},
     "output_type": "execute_result"
    }
   ],
   "source": [
    "# Comparação um a um dos elementos\n",
    "a = np.array([1, 2, 3, 4])\n",
    "b = np.array([4, 2, 2, 4])\n",
    "a == b"
   ]
  },
  {
   "cell_type": "code",
   "execution_count": 158,
   "metadata": {},
   "outputs": [
    {
     "data": {
      "text/plain": [
       "False"
      ]
     },
     "execution_count": 158,
     "metadata": {},
     "output_type": "execute_result"
    }
   ],
   "source": [
    "np.array_equal(a, b)"
   ]
  },
  {
   "cell_type": "code",
   "execution_count": 159,
   "metadata": {},
   "outputs": [
    {
     "data": {
      "text/plain": [
       "1"
      ]
     },
     "execution_count": 159,
     "metadata": {},
     "output_type": "execute_result"
    }
   ],
   "source": [
    "a.min()"
   ]
  },
  {
   "cell_type": "code",
   "execution_count": 160,
   "metadata": {},
   "outputs": [
    {
     "data": {
      "text/plain": [
       "4"
      ]
     },
     "execution_count": 160,
     "metadata": {},
     "output_type": "execute_result"
    }
   ],
   "source": [
    "a.max()"
   ]
  },
  {
   "cell_type": "code",
   "execution_count": 167,
   "metadata": {},
   "outputs": [
    {
     "data": {
      "text/plain": [
       "array([0, 1, 2, 3, 4])"
      ]
     },
     "execution_count": 167,
     "metadata": {},
     "output_type": "execute_result"
    }
   ],
   "source": [
    "# Somando um elemento ao array\n",
    "arrayparasoma = np.arange(5)\n",
    "arrayparasoma"
   ]
  },
  {
   "cell_type": "code",
   "execution_count": 168,
   "metadata": {},
   "outputs": [
    {
     "data": {
      "text/plain": [
       "array([1, 2, 3, 4, 5])"
      ]
     },
     "execution_count": 168,
     "metadata": {},
     "output_type": "execute_result"
    }
   ],
   "source": [
    "soma = arrayparasoma + 1\n",
    "soma"
   ]
  },
  {
   "cell_type": "code",
   "execution_count": 169,
   "metadata": {},
   "outputs": [],
   "source": [
    "# Usando o método around\n",
    "a = np.array([1.2, 1.5, 1.6, 2.5, 3.5, 4.5])"
   ]
  },
  {
   "cell_type": "code",
   "execution_count": 170,
   "metadata": {},
   "outputs": [],
   "source": [
    "b = np.around(a) #para arredondar "
   ]
  },
  {
   "cell_type": "code",
   "execution_count": 171,
   "metadata": {},
   "outputs": [
    {
     "data": {
      "text/plain": [
       "array([1., 2., 2., 2., 4., 4.])"
      ]
     },
     "execution_count": 171,
     "metadata": {},
     "output_type": "execute_result"
    }
   ],
   "source": [
    "b"
   ]
  },
  {
   "cell_type": "code",
   "execution_count": 172,
   "metadata": {},
   "outputs": [],
   "source": [
    "# Criando um array\n",
    "B = np.array([1, 2, 3, 4])"
   ]
  },
  {
   "cell_type": "code",
   "execution_count": 173,
   "metadata": {},
   "outputs": [
    {
     "data": {
      "text/plain": [
       "array([1, 2, 3, 4])"
      ]
     },
     "execution_count": 173,
     "metadata": {},
     "output_type": "execute_result"
    }
   ],
   "source": [
    "B"
   ]
  },
  {
   "cell_type": "code",
   "execution_count": 176,
   "metadata": {},
   "outputs": [],
   "source": [
    "# Copiando um array\n",
    "C = B.flatten() #Função para copiar o array"
   ]
  },
  {
   "cell_type": "code",
   "execution_count": 177,
   "metadata": {},
   "outputs": [
    {
     "data": {
      "text/plain": [
       "array([1, 2, 3, 4])"
      ]
     },
     "execution_count": 177,
     "metadata": {},
     "output_type": "execute_result"
    }
   ],
   "source": [
    "C"
   ]
  },
  {
   "cell_type": "code",
   "execution_count": 178,
   "metadata": {},
   "outputs": [],
   "source": [
    "# Criando um array\n",
    "v = np.array([1, 2, 3])"
   ]
  },
  {
   "cell_type": "code",
   "execution_count": 179,
   "metadata": {},
   "outputs": [
    {
     "data": {
      "text/plain": [
       "(array([[1],\n",
       "        [2],\n",
       "        [3]]), (3, 1), (1, 3))"
      ]
     },
     "execution_count": 179,
     "metadata": {},
     "output_type": "execute_result"
    }
   ],
   "source": [
    "# Adcionando uma dimensão ao array\n",
    "v[:, np.newaxis], v[:,np.newaxis].shape, v[np.newaxis,:].shape"
   ]
  },
  {
   "cell_type": "code",
   "execution_count": 182,
   "metadata": {},
   "outputs": [],
   "source": [
    "vetor1 = np.arange(5)"
   ]
  },
  {
   "cell_type": "code",
   "execution_count": 185,
   "metadata": {},
   "outputs": [],
   "source": [
    "vetor_repeat = np.repeat(vetor1, 5)"
   ]
  },
  {
   "cell_type": "code",
   "execution_count": 186,
   "metadata": {},
   "outputs": [
    {
     "data": {
      "text/plain": [
       "array([0, 0, 0, 0, 0, 1, 1, 1, 1, 1, 2, 2, 2, 2, 2, 3, 3, 3, 3, 3, 4, 4,\n",
       "       4, 4, 4])"
      ]
     },
     "execution_count": 186,
     "metadata": {},
     "output_type": "execute_result"
    }
   ],
   "source": [
    "vetor_repeat"
   ]
  },
  {
   "cell_type": "code",
   "execution_count": null,
   "metadata": {},
   "outputs": [],
   "source": []
  },
  {
   "cell_type": "code",
   "execution_count": 180,
   "metadata": {},
   "outputs": [
    {
     "data": {
      "text/plain": [
       "array([1, 1, 1, 2, 2, 2, 3, 3, 3])"
      ]
     },
     "execution_count": 180,
     "metadata": {},
     "output_type": "execute_result"
    }
   ],
   "source": [
    "# Repetindo os elementos de um array\n",
    "np.repeat(v, 3)"
   ]
  },
  {
   "cell_type": "code",
   "execution_count": 188,
   "metadata": {},
   "outputs": [
    {
     "data": {
      "text/plain": [
       "array([1, 2, 3, 1, 2, 3, 1, 2, 3])"
      ]
     },
     "execution_count": 188,
     "metadata": {},
     "output_type": "execute_result"
    }
   ],
   "source": [
    "# Repetindo os elementos de um array\n",
    "np.tile(v, 3)"
   ]
  },
  {
   "cell_type": "code",
   "execution_count": 190,
   "metadata": {},
   "outputs": [],
   "source": [
    "# Criando um array\n",
    "w = np.array([5, 6])"
   ]
  },
  {
   "cell_type": "code",
   "execution_count": 191,
   "metadata": {},
   "outputs": [
    {
     "data": {
      "text/plain": [
       "array([1, 2, 3, 5, 6])"
      ]
     },
     "execution_count": 191,
     "metadata": {},
     "output_type": "execute_result"
    }
   ],
   "source": [
    "# Concatenando\n",
    "np.concatenate((v, w), axis=0)"
   ]
  },
  {
   "cell_type": "code",
   "execution_count": 192,
   "metadata": {},
   "outputs": [],
   "source": [
    "# Copiando arrays\n",
    "r = np.copy(v)"
   ]
  },
  {
   "cell_type": "code",
   "execution_count": 194,
   "metadata": {},
   "outputs": [
    {
     "data": {
      "text/plain": [
       "array([1, 2, 3])"
      ]
     },
     "execution_count": 194,
     "metadata": {},
     "output_type": "execute_result"
    }
   ],
   "source": [
    "r"
   ]
  },
  {
   "cell_type": "code",
   "execution_count": 196,
   "metadata": {},
   "outputs": [],
   "source": [
    "ravel__ = np.ravel(v)"
   ]
  },
  {
   "cell_type": "code",
   "execution_count": 197,
   "metadata": {},
   "outputs": [
    {
     "data": {
      "text/plain": [
       "array([1, 2, 3])"
      ]
     },
     "execution_count": 197,
     "metadata": {},
     "output_type": "execute_result"
    }
   ],
   "source": [
    "ravel__"
   ]
  },
  {
   "cell_type": "code",
   "execution_count": 199,
   "metadata": {},
   "outputs": [],
   "source": [
    "longo = np.linspace(2,3,100)"
   ]
  },
  {
   "cell_type": "code",
   "execution_count": 200,
   "metadata": {},
   "outputs": [
    {
     "data": {
      "text/plain": [
       "array([2.        , 2.01010101, 2.02020202, 2.03030303, 2.04040404,\n",
       "       2.05050505, 2.06060606, 2.07070707, 2.08080808, 2.09090909,\n",
       "       2.1010101 , 2.11111111, 2.12121212, 2.13131313, 2.14141414,\n",
       "       2.15151515, 2.16161616, 2.17171717, 2.18181818, 2.19191919,\n",
       "       2.2020202 , 2.21212121, 2.22222222, 2.23232323, 2.24242424,\n",
       "       2.25252525, 2.26262626, 2.27272727, 2.28282828, 2.29292929,\n",
       "       2.3030303 , 2.31313131, 2.32323232, 2.33333333, 2.34343434,\n",
       "       2.35353535, 2.36363636, 2.37373737, 2.38383838, 2.39393939,\n",
       "       2.4040404 , 2.41414141, 2.42424242, 2.43434343, 2.44444444,\n",
       "       2.45454545, 2.46464646, 2.47474747, 2.48484848, 2.49494949,\n",
       "       2.50505051, 2.51515152, 2.52525253, 2.53535354, 2.54545455,\n",
       "       2.55555556, 2.56565657, 2.57575758, 2.58585859, 2.5959596 ,\n",
       "       2.60606061, 2.61616162, 2.62626263, 2.63636364, 2.64646465,\n",
       "       2.65656566, 2.66666667, 2.67676768, 2.68686869, 2.6969697 ,\n",
       "       2.70707071, 2.71717172, 2.72727273, 2.73737374, 2.74747475,\n",
       "       2.75757576, 2.76767677, 2.77777778, 2.78787879, 2.7979798 ,\n",
       "       2.80808081, 2.81818182, 2.82828283, 2.83838384, 2.84848485,\n",
       "       2.85858586, 2.86868687, 2.87878788, 2.88888889, 2.8989899 ,\n",
       "       2.90909091, 2.91919192, 2.92929293, 2.93939394, 2.94949495,\n",
       "       2.95959596, 2.96969697, 2.97979798, 2.98989899, 3.        ])"
      ]
     },
     "execution_count": 200,
     "metadata": {},
     "output_type": "execute_result"
    }
   ],
   "source": [
    "longo"
   ]
  },
  {
   "cell_type": "markdown",
   "metadata": {},
   "source": [
    "Conheça a Formação Cientista de Dados, um programa completo, 100% online e 100% em português, com 340 horas, mais de 1.200 aulas em vídeos e 26 projetos, que vão ajudá-lo a se tornar um dos profissionais mais cobiçados do mercado de análise de dados. Clique no link abaixo, faça sua inscrição, comece hoje mesmo e aumente sua empregabilidade:\n",
    "\n",
    "https://www.datascienceacademy.com.br/pages/formacao-cientista-de-dados"
   ]
  },
  {
   "cell_type": "markdown",
   "metadata": {},
   "source": [
    "# Fim"
   ]
  },
  {
   "cell_type": "markdown",
   "metadata": {},
   "source": [
    "### Obrigado - Data Science Academy - <a href=\"http://facebook.com/dsacademybr\">facebook.com/dsacademybr</a>"
   ]
  }
 ],
 "metadata": {
  "kernelspec": {
   "display_name": "Python 3",
   "language": "python",
   "name": "python3"
  },
  "language_info": {
   "codemirror_mode": {
    "name": "ipython",
    "version": 3
   },
   "file_extension": ".py",
   "mimetype": "text/x-python",
   "name": "python",
   "nbconvert_exporter": "python",
   "pygments_lexer": "ipython3",
   "version": "3.7.0"
  }
 },
 "nbformat": 4,
 "nbformat_minor": 1
}
